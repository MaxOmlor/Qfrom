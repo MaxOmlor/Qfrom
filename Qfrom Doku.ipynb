{
 "cells": [
  {
   "cell_type": "code",
   "execution_count": 76,
   "metadata": {},
   "outputs": [],
   "source": [
    "from QfromPackage.Qfrom_mod import Qfrom\n",
    "import numpy as np\n",
    "import pandas as pd"
   ]
  },
  {
   "cell_type": "markdown",
   "metadata": {},
   "source": [
    "**Qfrom Doku**"
   ]
  },
  {
   "cell_type": "markdown",
   "metadata": {},
   "source": [
    "**Inhalt**\n",
    "\n",
    "Einleitung\n",
    "\n",
    "Methoden Überblick\\\n",
    "init\\\n",
    "Standart Listen Funktionen\\\n",
    "String zu Funktion\\\n",
    "Erweiterte Listen Funktionen\\\n",
    "Aggregation Funktionen\\\n",
    "Tabellen Funktionen\\\n",
    "Mathe Funktionen\\\n",
    "Export Funktionen\\\n",
    "Plot Funktionen\\\n",
    "Fortgeschrittene Funktionen"
   ]
  },
  {
   "cell_type": "markdown",
   "metadata": {},
   "source": [
    "**Einleitung**\n",
    "\n",
    "Die Qfrom-Klasse beinhaltet ist im wesentlichen ein Wrapper für eine numpy-array, welcher zusätzliche, einfach zu bedienende Methoden zur Datenverarbeitung bereitstellt.\n",
    "\n",
    "Die bennenung der Klasse, sowie der Methoden orientiert sich lose an der SQL schreibweise."
   ]
  },
  {
   "cell_type": "markdown",
   "metadata": {},
   "source": [
    "**Methoden Überblick**"
   ]
  },
  {
   "cell_type": "markdown",
   "metadata": {},
   "source": [
    "\\_\\_init\\_\\_\n",
    "\n",
    "Zur initialisierung können verschiedene Datenquellen übergeben werden. Diese werden im Folgenden aufgeführt."
   ]
  },
  {
   "cell_type": "markdown",
   "metadata": {},
   "source": [
    "list, set, array, ..."
   ]
  },
  {
   "cell_type": "code",
   "execution_count": 77,
   "metadata": {},
   "outputs": [
    {
     "name": "stdout",
     "output_type": "stream",
     "text": [
      "Qfrom([1 2 3])\n",
      "Qfrom([1 2 3])\n",
      "Qfrom([1 2 3])\n"
     ]
    }
   ],
   "source": [
    "l = [1, 2, 3]\n",
    "q_l = Qfrom(l)\n",
    "\n",
    "s = {1, 2, 3}\n",
    "q_s = Qfrom(s)\n",
    "\n",
    "a = np.array([1, 2, 3])\n",
    "q_a = Qfrom(a)\n",
    "\n",
    "print(q_l)\n",
    "print(q_s)\n",
    "print(q_a)"
   ]
  },
  {
   "cell_type": "markdown",
   "metadata": {},
   "source": [
    "generator, range, ..."
   ]
  },
  {
   "cell_type": "code",
   "execution_count": 78,
   "metadata": {},
   "outputs": [
    {
     "name": "stdout",
     "output_type": "stream",
     "text": [
      "Qfrom([0 1 2 3 4])\n"
     ]
    }
   ],
   "source": [
    "r = range(5)\n",
    "q_r = Qfrom(r)\n",
    "\n",
    "print(q_r)"
   ]
  },
  {
   "cell_type": "code",
   "execution_count": 79,
   "metadata": {},
   "outputs": [
    {
     "name": "stdout",
     "output_type": "stream",
     "text": [
      "Qfrom([1 1 1 1 1])\n"
     ]
    }
   ],
   "source": [
    "def generator(n, num):\n",
    "    for i in range(n):\n",
    "        yield num\n",
    "\n",
    "q_g = Qfrom(generator(5, 1))\n",
    "print(q_g)"
   ]
  },
  {
   "cell_type": "markdown",
   "metadata": {},
   "source": [
    "dict und dataframe können nicht ohne Weiteres in eine array-Form gebracht werden. Um die benahmung der Key-Value-Paare(KVPs) bzw. der Spalten nicht zu verlieren werden die KVPs bzw. die Zeilen in Dictionaries umgewandelt, wobei Key der Spaltenbenahmung entspricht und Value den Zeilen-Wert enthält."
   ]
  },
  {
   "cell_type": "code",
   "execution_count": 80,
   "metadata": {},
   "outputs": [
    {
     "name": "stdout",
     "output_type": "stream",
     "text": [
      "Qfrom(\t{'key': 'a', 'value': 1}\n",
      "\t{'key': 'b', 'value': 2}\n",
      "\t{'key': 'c', 'value': 3})\n"
     ]
    }
   ],
   "source": [
    "d = {'a':1, 'b':2, 'c':3}\n",
    "q_d = Qfrom(d)\n",
    "\n",
    "print(q_d)"
   ]
  },
  {
   "cell_type": "code",
   "execution_count": 81,
   "metadata": {},
   "outputs": [
    {
     "name": "stdout",
     "output_type": "stream",
     "text": [
      "Qfrom(\t{'Tier': 'Hund', 'Beine': 4}\n",
      "\t{'Tier': 'Katze', 'Beine': 4}\n",
      "\t{'Tier': 'Vogel', 'Beine': 2})\n"
     ]
    }
   ],
   "source": [
    "data = {'Tier': ['Hund', 'Katze', 'Vogel'],\n",
    "        'Beine': [4, 4, 2]}\n",
    "\n",
    "df = pd.DataFrame(data)\n",
    "q_df = Qfrom(df)\n",
    "\n",
    "print(q_df)"
   ]
  },
  {
   "cell_type": "markdown",
   "metadata": {},
   "source": [
    "csv-string, csv-file -> (delimiter, headers)\n",
    "\n",
    "Es kann sowohl ein csv-string sowie ein Dateipfad zu einer csv Datei übergeben werden."
   ]
  },
  {
   "cell_type": "code",
   "execution_count": 82,
   "metadata": {},
   "outputs": [
    {
     "name": "stdout",
     "output_type": "stream",
     "text": [
      "Qfrom(\t{'a': 1, 'b': 10, 'c': 100}\n",
      "\t{'a': 2, 'b': 20, 'c': 200})\n"
     ]
    }
   ],
   "source": [
    "csv = '''\n",
    "a; b; c\n",
    "1; 10; 100\n",
    "2; 20; 200\n",
    "'''\n",
    "q_csv = Qfrom(csv, delimiter=';')\n",
    "\n",
    "print(q_csv)"
   ]
  },
  {
   "cell_type": "markdown",
   "metadata": {},
   "source": [
    "json-string, json-file\n",
    "\n",
    "Es kann sowohl ein json-string sowie ein Dateipfad zu einer json Datei übergeben werden."
   ]
  },
  {
   "cell_type": "code",
   "execution_count": 83,
   "metadata": {},
   "outputs": [
    {
     "name": "stdout",
     "output_type": "stream",
     "text": [
      "Qfrom(\t{'a': 1, 'b': 2}\n",
      "\t{'a': 3, 'b': 4})\n"
     ]
    }
   ],
   "source": [
    "json = \"\"\"\n",
    "[\n",
    "    {'a':1, 'b':2},\n",
    "    {'a':3, 'b':4}\n",
    "]\n",
    "\"\"\"\n",
    "q_j = Qfrom(json)\n",
    "\n",
    "print(q_j)"
   ]
  },
  {
   "cell_type": "code",
   "execution_count": 84,
   "metadata": {},
   "outputs": [
    {
     "name": "stdout",
     "output_type": "stream",
     "text": [
      "Qfrom(\t{'key': 'a', 'value': 1}\n",
      "\t{'key': 'b', 'value': [1, 2]})\n"
     ]
    }
   ],
   "source": [
    "json = \"{'a':1, 'b':[1, 2]}\"\n",
    "\n",
    "q_j = Qfrom(json)\n",
    "\n",
    "print(q_j)"
   ]
  },
  {
   "cell_type": "markdown",
   "metadata": {},
   "source": [
    "**Standart Listen Funktionen**"
   ]
  },
  {
   "cell_type": "markdown",
   "metadata": {},
   "source": [
    "\\_\\_len\\_\\_"
   ]
  },
  {
   "cell_type": "code",
   "execution_count": 85,
   "metadata": {},
   "outputs": [
    {
     "name": "stdout",
     "output_type": "stream",
     "text": [
      "3\n"
     ]
    }
   ],
   "source": [
    "q = Qfrom([1, 2, 3])\n",
    "l = len(q)\n",
    "\n",
    "print(l)"
   ]
  },
  {
   "cell_type": "markdown",
   "metadata": {},
   "source": [
    "\\_\\_getitem\\_\\_"
   ]
  },
  {
   "cell_type": "code",
   "execution_count": 86,
   "metadata": {},
   "outputs": [
    {
     "name": "stdout",
     "output_type": "stream",
     "text": [
      "3\n",
      "Qfrom([2 4])\n"
     ]
    }
   ],
   "source": [
    "q = Qfrom([1, 2, 3, 4, 5])\n",
    "\n",
    "item = q[2]\n",
    "print(item)\n",
    "\n",
    "slice_of_q = q[1::2]\n",
    "print(slice_of_q)"
   ]
  },
  {
   "cell_type": "markdown",
   "metadata": {},
   "source": [
    "\\_\\_setitem\\_\\_"
   ]
  },
  {
   "cell_type": "code",
   "execution_count": 87,
   "metadata": {},
   "outputs": [
    {
     "name": "stdout",
     "output_type": "stream",
     "text": [
      "Qfrom([6 2 3 4 5])\n"
     ]
    }
   ],
   "source": [
    "q = Qfrom([1, 2, 3, 4, 5])\n",
    "\n",
    "q[0] = 6\n",
    "print(q)"
   ]
  },
  {
   "cell_type": "markdown",
   "metadata": {},
   "source": [
    "\\_\\_contains\\_\\_"
   ]
  },
  {
   "cell_type": "code",
   "execution_count": 88,
   "metadata": {},
   "outputs": [
    {
     "name": "stdout",
     "output_type": "stream",
     "text": [
      "True\n",
      "False\n"
     ]
    }
   ],
   "source": [
    "q = Qfrom([1, 2, 3])\n",
    "\n",
    "print(2 in q)\n",
    "print(0 in q)"
   ]
  },
  {
   "cell_type": "markdown",
   "metadata": {},
   "source": [
    "\\_\\_iter\\_\\_"
   ]
  },
  {
   "cell_type": "code",
   "execution_count": 89,
   "metadata": {},
   "outputs": [
    {
     "name": "stdout",
     "output_type": "stream",
     "text": [
      "1\n",
      "2\n",
      "3\n"
     ]
    }
   ],
   "source": [
    "q = Qfrom([1, 2, 3])\n",
    "\n",
    "for item in q:\n",
    "    print(item)"
   ]
  },
  {
   "cell_type": "markdown",
   "metadata": {},
   "source": [
    "\\_\\_str\\_\\_"
   ]
  },
  {
   "cell_type": "code",
   "execution_count": 90,
   "metadata": {},
   "outputs": [
    {
     "name": "stdout",
     "output_type": "stream",
     "text": [
      "Qfrom([1 2 3])\n"
     ]
    }
   ],
   "source": [
    "q = Qfrom([1, 2, 3])\n",
    "str_q = str(q)\n",
    "\n",
    "print(str_q)"
   ]
  },
  {
   "cell_type": "markdown",
   "metadata": {},
   "source": [
    "concat(other)\n",
    "\n",
    "Durch Concat lässt sich eine collection an Qfrom anfügen."
   ]
  },
  {
   "cell_type": "code",
   "execution_count": 91,
   "metadata": {},
   "outputs": [
    {
     "name": "stdout",
     "output_type": "stream",
     "text": [
      "Qfrom([1 2 3 1 2 3])\n",
      "Qfrom([1 2 3 4 5 6])\n"
     ]
    }
   ],
   "source": [
    "q = Qfrom([1, 2, 3])\n",
    "\n",
    "qq = q.concat(q)\n",
    "print(qq)\n",
    "\n",
    "ql = q.concat([4, 5, 6])\n",
    "print(ql)"
   ]
  },
  {
   "cell_type": "markdown",
   "metadata": {},
   "source": [
    "add(item)\n",
    "\n",
    "Da Qfrom auf einer Array aufbaut ist die Klasse nicht dazu gedacht eine dynamische Anzahl von Elementen zu halten. D.h. das anfügen von Elementen ist nicht besonders performant. Trotzdem ist es über die add-Funktion möglich Qfrom elementweise zu erweitern."
   ]
  },
  {
   "cell_type": "code",
   "execution_count": 92,
   "metadata": {},
   "outputs": [
    {
     "name": "stdout",
     "output_type": "stream",
     "text": [
      "Qfrom([1 2 3 4])\n"
     ]
    }
   ],
   "source": [
    "q = Qfrom([1, 2, 3])\n",
    "q.add(4)\n",
    "\n",
    "print(q)"
   ]
  },
  {
   "cell_type": "markdown",
   "metadata": {},
   "source": [
    "**String zu Funktion**\n",
    "\n",
    "Für die meisten der Qfrom-Methoden können Funktionen als Parameter übergeben werden. Um Nutzung dieser Methoden zu vereinfachen können die gängigsten Tabellen-Funktionen als String abgekürzt übergeben werden. Der String wird von Qfrom in einen passenden lambda-Ausdruck übersetzt.\n",
    "\n",
    "String -> lambda-Ausdruck"
   ]
  },
  {
   "cell_type": "markdown",
   "metadata": {},
   "source": [
    "Lambda Kurzform:\\\n",
    "'x:x' -> lambda x:x\\\n",
    "'a, b: a+b' -> lambda a, b: a+b"
   ]
  },
  {
   "cell_type": "markdown",
   "metadata": {},
   "source": [
    "Spalten selektieren:\\\n",
    "'1' -> lambda item: {'1': item[1]}\n",
    "\n",
    "'x.a' -> lambda item: {'a': item['x']['a']}\\\n",
    "'x.a, x.b' -> lambda item: {'a': item['x']['a'], 'b': item['x']['b']}\n",
    "\n",
    "'x.a as b' -> lambda item: {'b': item['x']['a']}\\\n",
    "'ab as a, cd as c' -> lambda item: {'a': item['ab'], 'c': item['cd']}\n",
    "\n",
    "Spalten deselektieren:\\\n",
    "'-a' -> 'lambda item: {key:item[key] for key in item if key != \"a\"}'\\\n",
    "'-a, -b' -> 'lambda item: {key:item[key] for key in item if key not in [\"a\", \"b\"]}'"
   ]
  },
  {
   "cell_type": "markdown",
   "metadata": {},
   "source": [
    "Predikat Funktionen:\n",
    "\n",
    "Jede Zeichenfolge aus Buchstaben, welche nicht in Anführungszeichen steht, wird als Spaltenname erkannt und übersetzt. Da nur Zeichenfolgen vom Typ: [a-zA-Z\\_\\.0-9] erkannt werden, können beliebig komplexe Predikate gebildet werden. Diese können and, or, not, Klammersetzung, etc. enthalten.\n",
    "\n",
    "'a == \"b\"' -> 'lambda item: item[\"a\"] == \"b\"'\\\n",
    "'a < 1' -> 'lambda item: item[\"a\"] < 1'\\\n",
    "'a > 1' -> 'lambda item: item[\"a\"] > 1'\\\n",
    "'a <= 1' -> 'lambda item: item[\"a\"] <= 1'\\\n",
    "'a >= 1' -> 'lambda item: item[\"a\"] >= 1'\n",
    "\n",
    "'x in [\"a\", \"b\", \"c\"]' -> lambda item: item[\"x\"] in [\"a\", \"b\", \"c\"]\n",
    "\n",
    "'x not in [\"a\", \"b\", \"c\"]' -> lambda item: item[\"x\"] not in [\"a\", \"b\", \"c\"]\n",
    "\n",
    "'0 < a < 1' -> 'lambda item: 0 < item[\"a\"] < 1'\\\n",
    "'a == \"b\" and c == \"d\" -> 'lambda item: item[\"a\"] == \"b\" and item[\"c\"] == \"d\"'"
   ]
  },
  {
   "cell_type": "markdown",
   "metadata": {},
   "source": [
    "Für ausgewählte Qfrom-Methoden wird der String anders übersetzt, als im Abschnitt Spalten selektieren beschrieben.\n",
    "Dazu zählen:\n",
    "\n",
    "flatten(select_collection, select_result) -> select_collection\\\n",
    "group_by(key, value) -> key\\\n",
    "order_by(key, reverse) -> key\\\n",
    "min(func) -> func\\\n",
    "max(func) -> func"
   ]
  },
  {
   "cell_type": "markdown",
   "metadata": {},
   "source": [
    "Die abweichende Übersetzung:\\\n",
    "(String -> lambda-Ausdruck)\n",
    "\n",
    "'x.a' -> lambda item: item['x']['a']\\\n",
    "'1' -> lambda item: item[1]"
   ]
  },
  {
   "cell_type": "markdown",
   "metadata": {},
   "source": [
    "**Erweiterte Listen Funktionen**"
   ]
  },
  {
   "cell_type": "markdown",
   "metadata": {},
   "source": [
    "select(func)\\\n",
    "Kurzform: s\n",
    "\n",
    "Signatur:\\\n",
    "func(item) -> item\n",
    "\n",
    "Iteriert über jedes Element in Qfrom und führt darauf func aus. Das Ergebnis wird in ein neues Qfrom geschrieben, welches zurückgegeben wird."
   ]
  },
  {
   "cell_type": "code",
   "execution_count": 93,
   "metadata": {},
   "outputs": [
    {
     "name": "stdout",
     "output_type": "stream",
     "text": [
      "Qfrom([2 3 4])\n",
      "Qfrom([2 3 4])\n"
     ]
    }
   ],
   "source": [
    "q = Qfrom([1, 2, 3])\n",
    "\n",
    "result = q.select(lambda x:x+1)\n",
    "print(result)\n",
    "\n",
    "result = q.s(lambda x:x+1)\n",
    "print(result)"
   ]
  },
  {
   "cell_type": "markdown",
   "metadata": {},
   "source": [
    "where(predicate)\\\n",
    "Kurzform: w\n",
    "\n",
    "Signatur:\\\n",
    "predicate(item) -> bool\n",
    "\n",
    "Iteriert über jedes Element in Qfrom und führt darauf die predicate-Funktion aus. Ist das Ergebnis True wird das Element in ein neues Qfrom geschrieben, sonst nicht. Das neue Qfrom wird zurückgegeben."
   ]
  },
  {
   "cell_type": "code",
   "execution_count": 94,
   "metadata": {},
   "outputs": [
    {
     "name": "stdout",
     "output_type": "stream",
     "text": [
      "Qfrom([1 2])\n",
      "Qfrom([1 2])\n"
     ]
    }
   ],
   "source": [
    "q = Qfrom([1, 2, 3])\n",
    "\n",
    "result = q.where(lambda x:x<3)\n",
    "print(result)\n",
    "\n",
    "result = q.w(lambda x:x<3)\n",
    "print(result)"
   ]
  },
  {
   "cell_type": "markdown",
   "metadata": {},
   "source": [
    "flatten(select_collection, select_result)\\\n",
    "Kurzform: f\n",
    "\n",
    "Signatur:\\\n",
    "select_collection(item) -> collection\\\n",
    "select_result(parent, child) -> item\n",
    "\n",
    "Iteriert über jedes Element in einem Qfrom gefüllt mit collections und concateniert diese collections zu einem neuen Qfrom. Das neue Qfrom wird zurückgegeben.\\\n",
    "Über select_collection lässt sich eine collection in einem item auswählen.\n",
    "\n",
    "Über select_result lässt die Form des der Ausgabe-Items definieren. Hierfür werden das ursprüngliche item als parent und das aktuelle item aus der aktuellen collection als child übergeben."
   ]
  },
  {
   "cell_type": "code",
   "execution_count": 95,
   "metadata": {},
   "outputs": [
    {
     "name": "stdout",
     "output_type": "stream",
     "text": [
      "Qfrom([1 2 3 4])\n",
      "Qfrom([1 2 3 4])\n"
     ]
    }
   ],
   "source": [
    "q = Qfrom([[1, 2], [3, 4]])\n",
    "\n",
    "result = q.flatten()\n",
    "print(result)\n",
    "\n",
    "result = q.f()\n",
    "print(result)"
   ]
  },
  {
   "cell_type": "code",
   "execution_count": 96,
   "metadata": {},
   "outputs": [
    {
     "name": "stdout",
     "output_type": "stream",
     "text": [
      "Qfrom([1 2 3 4])\n",
      "Qfrom([1 2 3 4])\n"
     ]
    }
   ],
   "source": [
    "q = Qfrom([{'a': [1, 2]}, {'a': [3, 4]}])\n",
    "\n",
    "result = q.flatten('a')\n",
    "print(result)\n",
    "\n",
    "result = q.f('a')\n",
    "print(result)"
   ]
  },
  {
   "cell_type": "code",
   "execution_count": 97,
   "metadata": {},
   "outputs": [
    {
     "name": "stdout",
     "output_type": "stream",
     "text": [
      "Qfrom(\t({'a': [1, 2]}, 1)\n",
      "\t({'a': [1, 2]}, 2)\n",
      "\t({'a': [3, 4]}, 3)\n",
      "\t({'a': [3, 4]}, 4))\n",
      "Qfrom(\t({'a': [1, 2]}, 1)\n",
      "\t({'a': [1, 2]}, 2)\n",
      "\t({'a': [3, 4]}, 3)\n",
      "\t({'a': [3, 4]}, 4))\n"
     ]
    }
   ],
   "source": [
    "q = Qfrom([{'a': [1, 2]}, {'a': [3, 4]}])\n",
    "\n",
    "result = q.flatten('a', lambda parent, child: (parent, child))\n",
    "print(result)\n",
    "\n",
    "result = q.f('a', lambda p, c: (p, c))\n",
    "print(result)"
   ]
  },
  {
   "cell_type": "markdown",
   "metadata": {},
   "source": [
    "group_by(key, value)\\\n",
    "Kurzform: g\n",
    "\n",
    "Signatur:\\\n",
    "key(item) -> hashable\\\n",
    "value(item) -> item\n",
    "\n",
    "Elemente des Qfroms werden nach key groupiert."
   ]
  },
  {
   "cell_type": "code",
   "execution_count": 98,
   "metadata": {},
   "outputs": [
    {
     "name": "stdout",
     "output_type": "stream",
     "text": [
      "Qfrom(\t{'key': 1, 'value': [1, 3, 5]}\n",
      "\t{'key': 0, 'value': [2, 4]})\n",
      "Qfrom(\t{'key': 1, 'value': [1, 3, 5]}\n",
      "\t{'key': 0, 'value': [2, 4]})\n"
     ]
    }
   ],
   "source": [
    "q = Qfrom([1, 2, 3, 4, 5])\n",
    "\n",
    "result = q.group_by('x:x%2')\n",
    "print(result)\n",
    "\n",
    "result = q.g('x:x%2')\n",
    "print(result)"
   ]
  },
  {
   "cell_type": "code",
   "execution_count": 99,
   "metadata": {},
   "outputs": [
    {
     "name": "stdout",
     "output_type": "stream",
     "text": [
      "Qfrom(\t{'key': 1, 'value': [{'a': 1, 'b': 10}, {'a': 1, 'b': 30}]}\n",
      "\t{'key': 2, 'value': [{'a': 2, 'b': 20}]})\n",
      "Qfrom(\t{'key': 1, 'value': [{'a': 1, 'b': 10}, {'a': 1, 'b': 30}]}\n",
      "\t{'key': 2, 'value': [{'a': 2, 'b': 20}]})\n"
     ]
    }
   ],
   "source": [
    "q = Qfrom([{'a':1, 'b':10}, {'a':2, 'b':20}, {'a':1, 'b':30}])\n",
    "\n",
    "result = q.group_by('a')\n",
    "print(result)\n",
    "\n",
    "result = q.g('a')\n",
    "print(result)"
   ]
  },
  {
   "cell_type": "code",
   "execution_count": 100,
   "metadata": {},
   "outputs": [
    {
     "name": "stdout",
     "output_type": "stream",
     "text": [
      "Qfrom(\t{'key': 1, 'value': [{'b': 10}, {'b': 30}]}\n",
      "\t{'key': 2, 'value': [{'b': 20}]})\n",
      "Qfrom(\t{'key': 1, 'value': [{'b': 10}, {'b': 30}]}\n",
      "\t{'key': 2, 'value': [{'b': 20}]})\n"
     ]
    }
   ],
   "source": [
    "q = Qfrom([{'a':1, 'b':10}, {'a':2, 'b':20}, {'a':1, 'b':30}])\n",
    "\n",
    "result = q.group_by('a', 'b')\n",
    "print(result)\n",
    "\n",
    "result = q.g('a', 'b')\n",
    "print(result)"
   ]
  },
  {
   "cell_type": "markdown",
   "metadata": {},
   "source": [
    "order_by(key, reverse)\\\n",
    "Kurzform: o\n",
    "\n",
    "Signatur:\\\n",
    "key(item) -> compareable\\\n",
    "reverse: bool\n",
    "\n",
    "Elemente des Qfroms werden nach key geordnet. über den Parameter reverse lässt sich die Sortierreihenfolge umdrehen."
   ]
  },
  {
   "cell_type": "code",
   "execution_count": 101,
   "metadata": {},
   "outputs": [
    {
     "name": "stdout",
     "output_type": "stream",
     "text": [
      "Qfrom([1 2 3 4 5])\n",
      "Qfrom([1 2 3 4 5])\n"
     ]
    }
   ],
   "source": [
    "q = Qfrom([3, 1, 5, 2, 4])\n",
    "\n",
    "result = q.order_by()\n",
    "print(result)\n",
    "\n",
    "result = q.o()\n",
    "print(result)"
   ]
  },
  {
   "cell_type": "code",
   "execution_count": 102,
   "metadata": {},
   "outputs": [
    {
     "name": "stdout",
     "output_type": "stream",
     "text": [
      "Qfrom([5 4 3 2 1])\n",
      "Qfrom([5 4 3 2 1])\n"
     ]
    }
   ],
   "source": [
    "q = Qfrom([3, 1, 5, 2, 4])\n",
    "\n",
    "result = q.order_by(reverse=True)\n",
    "print(result)\n",
    "\n",
    "result = q.o(reverse=True)\n",
    "print(result)"
   ]
  },
  {
   "cell_type": "code",
   "execution_count": 103,
   "metadata": {},
   "outputs": [
    {
     "name": "stdout",
     "output_type": "stream",
     "text": [
      "Qfrom(\t{'a': 1}\n",
      "\t{'a': 2}\n",
      "\t{'a': 3})\n",
      "Qfrom(\t{'a': 1}\n",
      "\t{'a': 2}\n",
      "\t{'a': 3})\n"
     ]
    }
   ],
   "source": [
    "q = Qfrom([{'a':2}, {'a':3}, {'a':1}])\n",
    "\n",
    "result = q.order_by('a')\n",
    "print(result)\n",
    "\n",
    "result = q.o('a')\n",
    "print(result)"
   ]
  },
  {
   "cell_type": "markdown",
   "metadata": {},
   "source": [
    "any(predicate)\n",
    "\n",
    "Signatur:\\\n",
    "predicate(item) -> bool\n",
    "\n",
    "Gibt True zurück, falls ein Element von Qfrom verschieden von False und 0 ist.\\\n",
    "Gibt False zurück falls alle Elemente False oder 0 sind, oder Qfrom leer.\n",
    "\n",
    "Die predicate-Funktion wird auf jedes Elemengt von Qfrom angewandt. Anschließend wird wie beschrieben der Rückgabewert ermittelt."
   ]
  },
  {
   "cell_type": "code",
   "execution_count": 104,
   "metadata": {},
   "outputs": [
    {
     "name": "stdout",
     "output_type": "stream",
     "text": [
      "True\n",
      "False\n",
      "False\n",
      "False\n"
     ]
    }
   ],
   "source": [
    "q = Qfrom([1, 2, 3])\n",
    "print(q.any())\n",
    "\n",
    "q = Qfrom([])\n",
    "print(q.any())\n",
    "\n",
    "q = Qfrom([0, 0, 0])\n",
    "print(q.any())\n",
    "\n",
    "q = Qfrom([False, False, False])\n",
    "print(q.any())"
   ]
  },
  {
   "cell_type": "code",
   "execution_count": 105,
   "metadata": {},
   "outputs": [
    {
     "name": "stdout",
     "output_type": "stream",
     "text": [
      "False\n",
      "True\n"
     ]
    }
   ],
   "source": [
    "q = Qfrom([1, 2, 3])\n",
    "print(q.any('x:x<1'))\n",
    "\n",
    "q = Qfrom([{'a':1}, {'a':2}])\n",
    "print(q.any('a>1'))"
   ]
  },
  {
   "cell_type": "markdown",
   "metadata": {},
   "source": [
    "all(predicate)\n",
    "\n",
    "Signatur:\\\n",
    "predicate(item) -> bool\n",
    "\n",
    "Gibt True zurück, falls alle Elemente von Qfrom verschieden von False und 0 sind.\\\n",
    "Gibt False zurück falls mindestens ein Element False oder 0 ist.\n",
    "\n",
    "Die predicate-Funktion wird auf jedes Elemengt von Qfrom angewandt. Anschließend wird wie beschrieben der Rückgabewert ermittelt."
   ]
  },
  {
   "cell_type": "code",
   "execution_count": 106,
   "metadata": {},
   "outputs": [
    {
     "name": "stdout",
     "output_type": "stream",
     "text": [
      "True\n",
      "True\n",
      "False\n",
      "False\n"
     ]
    }
   ],
   "source": [
    "q = Qfrom([1, 2, 3])\n",
    "print(q.all())\n",
    "\n",
    "q = Qfrom([])\n",
    "print(q.all())\n",
    "\n",
    "q = Qfrom([0, 1, 2])\n",
    "print(q.all())\n",
    "\n",
    "q = Qfrom([True, False, True])\n",
    "print(q.all())"
   ]
  },
  {
   "cell_type": "code",
   "execution_count": 107,
   "metadata": {},
   "outputs": [
    {
     "name": "stdout",
     "output_type": "stream",
     "text": [
      "False\n",
      "True\n"
     ]
    }
   ],
   "source": [
    "q = Qfrom([1, 2, 3])\n",
    "print(q.all('x:x<3'))\n",
    "\n",
    "q = Qfrom([{'a':1}, {'a':2}])\n",
    "print(q.all('a>0'))"
   ]
  },
  {
   "cell_type": "markdown",
   "metadata": {},
   "source": [
    "**Aggregation Funktionen**"
   ]
  },
  {
   "cell_type": "markdown",
   "metadata": {},
   "source": [
    "sum(key)\n",
    "\n",
    "Signatur:\n",
    "key(item) -> num"
   ]
  },
  {
   "cell_type": "code",
   "execution_count": 108,
   "metadata": {},
   "outputs": [
    {
     "name": "stdout",
     "output_type": "stream",
     "text": [
      "15\n"
     ]
    }
   ],
   "source": [
    "q = Qfrom([1, 2, 3, 4, 5])\n",
    "print(q.sum())"
   ]
  },
  {
   "cell_type": "code",
   "execution_count": 109,
   "metadata": {},
   "outputs": [
    {
     "name": "stdout",
     "output_type": "stream",
     "text": [
      "15\n"
     ]
    }
   ],
   "source": [
    "tab = '''\n",
    "a,b\n",
    "a,1\n",
    "b,2\n",
    "c,3\n",
    "d,4\n",
    "e,5\n",
    "'''\n",
    "q = Qfrom(tab)\n",
    "print(q.sum('b'))"
   ]
  },
  {
   "cell_type": "markdown",
   "metadata": {},
   "source": [
    "mean(key)\n",
    "\n",
    "Signatur:\n",
    "key(item) -> num"
   ]
  },
  {
   "cell_type": "code",
   "execution_count": 110,
   "metadata": {},
   "outputs": [
    {
     "name": "stdout",
     "output_type": "stream",
     "text": [
      "3.0\n"
     ]
    }
   ],
   "source": [
    "q = Qfrom([1, 2, 3, 4, 5])\n",
    "print(q.mean())"
   ]
  },
  {
   "cell_type": "code",
   "execution_count": 111,
   "metadata": {},
   "outputs": [
    {
     "name": "stdout",
     "output_type": "stream",
     "text": [
      "3.0\n"
     ]
    }
   ],
   "source": [
    "tab = '''\n",
    "a,b\n",
    "a,1\n",
    "b,2\n",
    "c,3\n",
    "d,4\n",
    "e,5\n",
    "'''\n",
    "q = Qfrom(tab)\n",
    "print(q.mean('b'))"
   ]
  },
  {
   "cell_type": "markdown",
   "metadata": {},
   "source": [
    "median(key)\n",
    "\n",
    "Signatur:\n",
    "key(item) -> num"
   ]
  },
  {
   "cell_type": "code",
   "execution_count": 112,
   "metadata": {},
   "outputs": [
    {
     "name": "stdout",
     "output_type": "stream",
     "text": [
      "3.0\n"
     ]
    }
   ],
   "source": [
    "q = Qfrom([1, 2, 3, 10, 30])\n",
    "print(q.median())"
   ]
  },
  {
   "cell_type": "code",
   "execution_count": 113,
   "metadata": {},
   "outputs": [
    {
     "name": "stdout",
     "output_type": "stream",
     "text": [
      "3.0\n"
     ]
    }
   ],
   "source": [
    "tab = '''\n",
    "a,b\n",
    "a,1\n",
    "b,2\n",
    "c,3\n",
    "d,10\n",
    "e,30\n",
    "'''\n",
    "q = Qfrom(tab)\n",
    "print(q.median('b'))"
   ]
  },
  {
   "cell_type": "markdown",
   "metadata": {},
   "source": [
    "var(key)\n",
    "\n",
    "Signatur:\n",
    "key(item) -> num"
   ]
  },
  {
   "cell_type": "code",
   "execution_count": 114,
   "metadata": {},
   "outputs": [
    {
     "name": "stdout",
     "output_type": "stream",
     "text": [
      "118.16000000000001\n"
     ]
    }
   ],
   "source": [
    "q = Qfrom([1, 2, 3, 10, 30])\n",
    "print(q.var())"
   ]
  },
  {
   "cell_type": "code",
   "execution_count": 115,
   "metadata": {},
   "outputs": [
    {
     "name": "stdout",
     "output_type": "stream",
     "text": [
      "118.16000000000001\n"
     ]
    }
   ],
   "source": [
    "tab = '''\n",
    "a,b\n",
    "a,1\n",
    "b,2\n",
    "c,3\n",
    "d,10\n",
    "e,30\n",
    "'''\n",
    "q = Qfrom(tab)\n",
    "print(q.var('b'))"
   ]
  },
  {
   "cell_type": "markdown",
   "metadata": {},
   "source": [
    "aggregate(func)\\\n",
    "Kurzform: agg\n",
    "\n",
    "Signatur:\\\n",
    "func(item, item) -> item\n",
    "\n",
    "Durch aggregate lassen sich alle Werte von Qfrom zusammenfassen.\n",
    "\n",
    "signatur: func(a, b) -> item"
   ]
  },
  {
   "cell_type": "code",
   "execution_count": 116,
   "metadata": {},
   "outputs": [
    {
     "name": "stdout",
     "output_type": "stream",
     "text": [
      "6\n",
      "6\n"
     ]
    }
   ],
   "source": [
    "q = Qfrom([1, 2, 3])\n",
    "\n",
    "result = q.aggregate('a,b:a+b')\n",
    "print(result)\n",
    "\n",
    "result = q.agg('a,b:a+b')\n",
    "print(result)"
   ]
  },
  {
   "cell_type": "markdown",
   "metadata": {},
   "source": [
    "**Tabellen Funktionen**\n",
    "\n",
    "Da Qfrom ein Wrapper für eine numpy-array ist, ist Qfrom grundsätzlich nicht auf tabellarische Datenstrukturen beschränkt.\n",
    "\n",
    "Da Daten oft in Tabellenform vorliegen, kann Qfrom eine Tabellenstruktur simulieren, indem jede Zeile der Tabelle durch ein Dict repräsentiert wird.\n",
    "\n",
    "a, b, c\\\n",
    "1, 2, 3 ->  [{'a':1, 'b':2, 'c':3},\\\n",
    "4, 5, 6 ->   {'a':4, 'b':5, 'c':6},\\\n",
    "7, 8, 9 ->   {'a':7, 'b':8, 'c':9}]\n",
    "\n",
    "Für diese Struktur werden angepasste Befehle bereitgestellt."
   ]
  },
  {
   "cell_type": "code",
   "execution_count": 117,
   "metadata": {},
   "outputs": [
    {
     "name": "stdout",
     "output_type": "stream",
     "text": [
      "Qfrom(\t{'a': 1, 'b': 2, 'c': 3}\n",
      "\t{'a': 4, 'b': 5, 'c': 6}\n",
      "\t{'a': 7, 'b': 8, 'c': 9})\n"
     ]
    }
   ],
   "source": [
    "tab = '''\n",
    "a,b,c\n",
    "1,2,3\n",
    "4,5,6\n",
    "7,8,9\n",
    "'''\n",
    "q = Qfrom(tab)\n",
    "print(q)"
   ]
  },
  {
   "cell_type": "markdown",
   "metadata": {},
   "source": [
    "edit_column(col_name, func)\\\n",
    "Kurzform: edit\n",
    "\n",
    "Signatur:\\\n",
    "col_name: string\\\n",
    "func(item) -> item"
   ]
  },
  {
   "cell_type": "code",
   "execution_count": 118,
   "metadata": {},
   "outputs": [
    {
     "name": "stdout",
     "output_type": "stream",
     "text": [
      "Qfrom(\t{'a': 1, 'b': 2, 'c': 30}\n",
      "\t{'a': 4, 'b': 5, 'c': 60}\n",
      "\t{'a': 7, 'b': 8, 'c': 90})\n",
      "Qfrom(\t{'a': 1, 'b': 2, 'c': 3, 'd': 'new col'}\n",
      "\t{'a': 4, 'b': 5, 'c': 6, 'd': 'new col'}\n",
      "\t{'a': 7, 'b': 8, 'c': 9, 'd': 'new col'})\n"
     ]
    }
   ],
   "source": [
    "q_e = q.edit('c', lambda x:x['c']*10)\n",
    "print(q_e)\n",
    "\n",
    "q_d = q.edit('d', 'x:\"new col\"')\n",
    "print(q_d)"
   ]
  },
  {
   "cell_type": "markdown",
   "metadata": {},
   "source": [
    "rename_column(col_name, new_name)\\\n",
    "Kurzform: rename\n",
    "\n",
    "Signatur:\\\n",
    "col_name: string\\\n",
    "new_name: string"
   ]
  },
  {
   "cell_type": "code",
   "execution_count": 119,
   "metadata": {},
   "outputs": [
    {
     "name": "stdout",
     "output_type": "stream",
     "text": [
      "Qfrom(\t{'a': 1, 'b': 2, 'd': 3}\n",
      "\t{'a': 4, 'b': 5, 'd': 6}\n",
      "\t{'a': 7, 'b': 8, 'd': 9})\n"
     ]
    }
   ],
   "source": [
    "q_r = q.rename('c', 'd')\n",
    "print(q_r)"
   ]
  },
  {
   "cell_type": "markdown",
   "metadata": {},
   "source": [
    "columns()"
   ]
  },
  {
   "cell_type": "code",
   "execution_count": 120,
   "metadata": {},
   "outputs": [
    {
     "name": "stdout",
     "output_type": "stream",
     "text": [
      "['a', 'b', 'c']\n"
     ]
    }
   ],
   "source": [
    "print(q.columns())"
   ]
  },
  {
   "cell_type": "markdown",
   "metadata": {},
   "source": [
    "**Mathe Funktionen**"
   ]
  },
  {
   "cell_type": "markdown",
   "metadata": {},
   "source": [
    "\\_\\_add\\_\\_"
   ]
  },
  {
   "cell_type": "code",
   "execution_count": 121,
   "metadata": {},
   "outputs": [
    {
     "name": "stdout",
     "output_type": "stream",
     "text": [
      "Qfrom([2 3 4])\n",
      "Qfrom([4 4 4])\n"
     ]
    }
   ],
   "source": [
    "q = Qfrom([1, 2, 3])\n",
    "\n",
    "print(q + 1)\n",
    "print(q + [3, 2, 1])"
   ]
  },
  {
   "cell_type": "markdown",
   "metadata": {},
   "source": [
    "\\_\\_sub\\_\\_"
   ]
  },
  {
   "cell_type": "code",
   "execution_count": 122,
   "metadata": {},
   "outputs": [
    {
     "name": "stdout",
     "output_type": "stream",
     "text": [
      "Qfrom([0 1 2])\n",
      "Qfrom([0 0 0])\n"
     ]
    }
   ],
   "source": [
    "q = Qfrom([1, 2, 3])\n",
    "\n",
    "print(q - 1)\n",
    "print(q - [1, 2, 3])"
   ]
  },
  {
   "cell_type": "markdown",
   "metadata": {},
   "source": [
    "\\_\\_mul\\_\\_"
   ]
  },
  {
   "cell_type": "code",
   "execution_count": 123,
   "metadata": {},
   "outputs": [
    {
     "name": "stdout",
     "output_type": "stream",
     "text": [
      "Qfrom([2 4 6])\n",
      "Qfrom([3 4 3])\n"
     ]
    }
   ],
   "source": [
    "q = Qfrom([1, 2, 3])\n",
    "\n",
    "print(q * 2)\n",
    "print(q * [3, 2, 1])"
   ]
  },
  {
   "cell_type": "markdown",
   "metadata": {},
   "source": [
    "\\_\\_truediv\\_\\_"
   ]
  },
  {
   "cell_type": "code",
   "execution_count": 124,
   "metadata": {},
   "outputs": [
    {
     "name": "stdout",
     "output_type": "stream",
     "text": [
      "Qfrom([0.5 1.  1.5])\n",
      "Qfrom([1. 1. 1.])\n"
     ]
    }
   ],
   "source": [
    "q = Qfrom([1, 2, 3])\n",
    "\n",
    "print(q / 2)\n",
    "print(q / [1, 2, 3])"
   ]
  },
  {
   "cell_type": "markdown",
   "metadata": {},
   "source": [
    "\\_\\_pow\\_\\_"
   ]
  },
  {
   "cell_type": "code",
   "execution_count": 125,
   "metadata": {},
   "outputs": [
    {
     "name": "stdout",
     "output_type": "stream",
     "text": [
      "Qfrom([1 4 9])\n",
      "Qfrom([ 1  4 27])\n"
     ]
    }
   ],
   "source": [
    "q = Qfrom([1, 2, 3])\n",
    "\n",
    "print(q ** 2)\n",
    "print(q ** [1, 2, 3])"
   ]
  },
  {
   "cell_type": "markdown",
   "metadata": {},
   "source": [
    "\\_\\_eq\\_\\_"
   ]
  },
  {
   "cell_type": "code",
   "execution_count": 126,
   "metadata": {},
   "outputs": [
    {
     "name": "stdout",
     "output_type": "stream",
     "text": [
      "True\n",
      "False\n",
      "False\n"
     ]
    }
   ],
   "source": [
    "q = Qfrom([1, 2, 3])\n",
    "\n",
    "print(q == q)\n",
    "print(q == [1, 2, 3])\n",
    "print(q == [1, 1, 1])"
   ]
  },
  {
   "cell_type": "markdown",
   "metadata": {},
   "source": [
    "min(func)\n",
    "\n",
    "Signatur:\\\n",
    "func(item) -> compareable"
   ]
  },
  {
   "cell_type": "code",
   "execution_count": 127,
   "metadata": {},
   "outputs": [
    {
     "name": "stdout",
     "output_type": "stream",
     "text": [
      "1\n"
     ]
    }
   ],
   "source": [
    "q = Qfrom([2, 3, 1])\n",
    "print(q.min())"
   ]
  },
  {
   "cell_type": "code",
   "execution_count": 128,
   "metadata": {},
   "outputs": [
    {
     "name": "stdout",
     "output_type": "stream",
     "text": [
      "3\n"
     ]
    }
   ],
   "source": [
    "q = Qfrom([2, 3, 1])\n",
    "print(q.min('x:3-x'))"
   ]
  },
  {
   "cell_type": "code",
   "execution_count": 129,
   "metadata": {},
   "outputs": [
    {
     "name": "stdout",
     "output_type": "stream",
     "text": [
      "{'a': 1}\n"
     ]
    }
   ],
   "source": [
    "q = Qfrom([{'a':2}, {'a':3}, {'a':1}])\n",
    "print(q.min('a'))"
   ]
  },
  {
   "cell_type": "markdown",
   "metadata": {},
   "source": [
    "max(func)\n",
    "\n",
    "Signatur:\\\n",
    "func(item) -> compareable"
   ]
  },
  {
   "cell_type": "code",
   "execution_count": 130,
   "metadata": {},
   "outputs": [
    {
     "name": "stdout",
     "output_type": "stream",
     "text": [
      "3\n"
     ]
    }
   ],
   "source": [
    "q = Qfrom([2, 3, 1])\n",
    "print(q.max())"
   ]
  },
  {
   "cell_type": "code",
   "execution_count": 131,
   "metadata": {},
   "outputs": [
    {
     "name": "stdout",
     "output_type": "stream",
     "text": [
      "1\n"
     ]
    }
   ],
   "source": [
    "q = Qfrom([2, 3, 1])\n",
    "print(q.max('x:3-x'))"
   ]
  },
  {
   "cell_type": "code",
   "execution_count": 132,
   "metadata": {},
   "outputs": [
    {
     "name": "stdout",
     "output_type": "stream",
     "text": [
      "{'a': 3}\n"
     ]
    }
   ],
   "source": [
    "q = Qfrom([{'a':2}, {'a':3}, {'a':1}])\n",
    "print(q.max('a'))"
   ]
  },
  {
   "cell_type": "markdown",
   "metadata": {},
   "source": [
    "**Export Funktionen**"
   ]
  },
  {
   "cell_type": "markdown",
   "metadata": {},
   "source": [
    "to_array()"
   ]
  },
  {
   "cell_type": "code",
   "execution_count": 133,
   "metadata": {},
   "outputs": [
    {
     "name": "stdout",
     "output_type": "stream",
     "text": [
      "[1 2 3]\n"
     ]
    }
   ],
   "source": [
    "q = Qfrom([1, 2, 3])\n",
    "print(q.to_array())"
   ]
  },
  {
   "cell_type": "markdown",
   "metadata": {},
   "source": [
    "to_list()"
   ]
  },
  {
   "cell_type": "code",
   "execution_count": 134,
   "metadata": {},
   "outputs": [
    {
     "name": "stdout",
     "output_type": "stream",
     "text": [
      "[1, 2, 3]\n",
      "[(1, 2), (3, 4), (5, 6)]\n"
     ]
    }
   ],
   "source": [
    "q = Qfrom([1, 2, 3])\n",
    "print(q.to_list())\n",
    "\n",
    "q_t = Qfrom([(1, 2), (3, 4), (5, 6)])\n",
    "print(q_t.to_list())"
   ]
  },
  {
   "cell_type": "markdown",
   "metadata": {},
   "source": [
    "to_set()"
   ]
  },
  {
   "cell_type": "code",
   "execution_count": 135,
   "metadata": {},
   "outputs": [
    {
     "name": "stdout",
     "output_type": "stream",
     "text": [
      "{1, 2}\n",
      "{(1, 2), (3, 4)}\n"
     ]
    }
   ],
   "source": [
    "q = Qfrom([1, 2, 2])\n",
    "print(q.to_set())\n",
    "\n",
    "q_t = Qfrom([(1, 2), (3, 4), (1, 2)])\n",
    "print(q_t.to_set())"
   ]
  },
  {
   "cell_type": "markdown",
   "metadata": {},
   "source": [
    "to_dict()"
   ]
  },
  {
   "cell_type": "code",
   "execution_count": 136,
   "metadata": {},
   "outputs": [
    {
     "name": "stdout",
     "output_type": "stream",
     "text": [
      "Qfrom(\t{'key': 'a', 'value': 1}\n",
      "\t{'key': 'b', 'value': 2}\n",
      "\t{'key': 'c', 'value': 3})\n",
      "{'a': 1, 'b': 2, 'c': 3}\n"
     ]
    }
   ],
   "source": [
    "q = Qfrom({'a':1, 'b':2, 'c':3})\n",
    "\n",
    "print(q)\n",
    "print(q.to_dict())"
   ]
  },
  {
   "cell_type": "code",
   "execution_count": 137,
   "metadata": {},
   "outputs": [
    {
     "name": "stdout",
     "output_type": "stream",
     "text": [
      "{'a': 1, 'b': 2}\n"
     ]
    }
   ],
   "source": [
    "q = Qfrom([\n",
    "    {'key': 'a', 'value': 1},\n",
    "\t{'key': 'b', 'value': 2}\n",
    "])\n",
    "\n",
    "print(q.to_dict())"
   ]
  },
  {
   "cell_type": "markdown",
   "metadata": {},
   "source": [
    "to_dataframe()"
   ]
  },
  {
   "cell_type": "code",
   "execution_count": 138,
   "metadata": {},
   "outputs": [
    {
     "name": "stdout",
     "output_type": "stream",
     "text": [
      "   a   b\n",
      "0  1  10\n",
      "1  2  20\n",
      "2  3  30\n"
     ]
    }
   ],
   "source": [
    "q = Qfrom([\n",
    "    {'a': 1, 'b':10},\n",
    "    {'a': 2, 'b':20},\n",
    "    {'a': 3, 'b':30},\n",
    "])\n",
    "\n",
    "print(q.to_dataframe())"
   ]
  },
  {
   "cell_type": "markdown",
   "metadata": {},
   "source": [
    "to_csv_file(path, encoding, delimiter)\n",
    "\n",
    "Signatur:\\\n",
    "path: string\\\n",
    "encoding: string\\\n",
    "delimiter: string"
   ]
  },
  {
   "cell_type": "markdown",
   "metadata": {},
   "source": [
    "**Plot Funktionen**"
   ]
  },
  {
   "cell_type": "markdown",
   "metadata": {},
   "source": [
    "plot(x, show_legend, title, x_scale_log, y_scale_log)\n",
    "\n",
    "Signatur:\\\n",
    "x: string\\\n",
    "show_legend: bool\\\n",
    "title: string\\\n",
    "x_scale_log: bool\\\n",
    "y_scale_log: bool\n",
    "\n",
    "Über den Parameter x kann festgelegt werden, welche Spalte als X-Achse verwendet wird."
   ]
  },
  {
   "cell_type": "code",
   "execution_count": 139,
   "metadata": {},
   "outputs": [
    {
     "data": {
      "image/png": "[encoded data removed]",
      "text/plain": [
       "<Figure size 432x288 with 1 Axes>"
      ]
     },
     "metadata": {
      "needs_background": "light"
     },
     "output_type": "display_data"
    },
    {
     "data": {
      "image/png": "[encoded data removed]",
      "text/plain": [
       "<Figure size 432x288 with 1 Axes>"
      ]
     },
     "metadata": {
      "needs_background": "light"
     },
     "output_type": "display_data"
    },
    {
     "data": {
      "image/png": "[encoded data removed]",
      "text/plain": [
       "<Figure size 432x288 with 1 Axes>"
      ]
     },
     "metadata": {
      "needs_background": "light"
     },
     "output_type": "display_data"
    }
   ],
   "source": [
    "q = Qfrom([\n",
    "    {'a': 1, 'b':3},\n",
    "    {'a': 2, 'b':0.5},\n",
    "    {'a': 3, 'b':2},\n",
    "    {'a': 4, 'b':1},\n",
    "    {'a': 5, 'b':4},\n",
    "])\n",
    "\n",
    "q.plot()\n",
    "q.plot('b')\n",
    "q.order_by('b').plot('b')"
   ]
  },
  {
   "cell_type": "code",
   "execution_count": 140,
   "metadata": {},
   "outputs": [
    {
     "data": {
      "image/png": "[encoded data removed]",
      "text/plain": [
       "<Figure size 432x288 with 1 Axes>"
      ]
     },
     "metadata": {
      "needs_background": "light"
     },
     "output_type": "display_data"
    },
    {
     "data": {
      "image/png": "[encoded data removed]",
      "text/plain": [
       "<Figure size 432x288 with 1 Axes>"
      ]
     },
     "metadata": {
      "needs_background": "light"
     },
     "output_type": "display_data"
    }
   ],
   "source": [
    "q = Qfrom([\n",
    "    {'a': 1, 'b':3, 'c':5},\n",
    "    {'a': 2, 'b':0.5, 'c':2.5},\n",
    "    {'a': 3, 'b':2, 'c':1.5},\n",
    "    {'a': 4, 'b':1, 'c':1.25},\n",
    "    {'a': 5, 'b':4, 'c':1},\n",
    "])\n",
    "\n",
    "q.plot()\n",
    "q.select('a, c').plot(x_scale_log=True, y_scale_log=True)"
   ]
  },
  {
   "cell_type": "markdown",
   "metadata": {},
   "source": [
    "plot_bar(x, show_legend, title, space, y_scale_log)\n",
    "\n",
    "Signatur:\\\n",
    "x: string\\\n",
    "show_legend: bool\\\n",
    "title: string\\\n",
    "space: float[0,1]\\\n",
    "y_scale_log: bool\n",
    "\n",
    "Über den Parameter x kann festgelegt werden, welche Spalte als X-Achse verwendet wird.\n"
   ]
  },
  {
   "cell_type": "code",
   "execution_count": 141,
   "metadata": {},
   "outputs": [
    {
     "data": {
      "image/png": "[encoded data removed]",
      "text/plain": [
       "<Figure size 432x288 with 1 Axes>"
      ]
     },
     "metadata": {
      "needs_background": "light"
     },
     "output_type": "display_data"
    },
    {
     "data": {
      "image/png": "[encoded data removed]",
      "text/plain": [
       "<Figure size 432x288 with 1 Axes>"
      ]
     },
     "metadata": {
      "needs_background": "light"
     },
     "output_type": "display_data"
    }
   ],
   "source": [
    "q = Qfrom([\n",
    "    {'a':'x', 'b':1, 'c':2, 'd':2},\n",
    "    {'a':'y', 'b':2, 'c':3, 'd':2},\n",
    "    {'a':'z', 'b':3, 'c':1, 'd':2},\n",
    "])\n",
    "\n",
    "q.select('b').plot_bar()\n",
    "q.plot_bar('a', space=0.5)"
   ]
  },
  {
   "cell_type": "markdown",
   "metadata": {},
   "source": [
    "plot_histogram(density, bins, stacked, show_legend, title, y_scale_log, ylabel)\n",
    "\n",
    "Signatur:\\\n",
    "density: bool\\\n",
    "bins: int\\\n",
    "stacked: bool\\\n",
    "show_legend: bool\\\n",
    "title: string\\\n",
    "y_scale_log: bool\\\n",
    "ylabel: string"
   ]
  },
  {
   "cell_type": "code",
   "execution_count": 142,
   "metadata": {},
   "outputs": [
    {
     "data": {
      "image/png": "[encoded data removed]",
      "text/plain": [
       "<Figure size 432x288 with 1 Axes>"
      ]
     },
     "metadata": {
      "needs_background": "light"
     },
     "output_type": "display_data"
    },
    {
     "data": {
      "image/png": "[encoded data removed]",
      "text/plain": [
       "<Figure size 432x288 with 1 Axes>"
      ]
     },
     "metadata": {
      "needs_background": "light"
     },
     "output_type": "display_data"
    }
   ],
   "source": [
    "q = Qfrom(zip(np.random.normal(size=1000), np.random.normal(size=1000)))\n",
    "\n",
    "q.plot_histogram(bins=10)\n",
    "q.select('0 as a, 1 as b').plot_histogram(density=True, bins=20, stacked=True)"
   ]
  },
  {
   "cell_type": "markdown",
   "metadata": {},
   "source": [
    "plot_boxplot(title, y_scale_log)\n",
    "\n",
    "Signatur:\\\n",
    "title: string\\\n",
    "y_scale_log: bool"
   ]
  },
  {
   "cell_type": "code",
   "execution_count": 143,
   "metadata": {},
   "outputs": [
    {
     "data": {
      "image/png": "[encoded data removed]",
      "text/plain": [
       "<Figure size 432x288 with 1 Axes>"
      ]
     },
     "metadata": {
      "needs_background": "light"
     },
     "output_type": "display_data"
    },
    {
     "data": {
      "image/png": "[encoded data removed]",
      "text/plain": [
       "<Figure size 432x288 with 1 Axes>"
      ]
     },
     "metadata": {
      "needs_background": "light"
     },
     "output_type": "display_data"
    }
   ],
   "source": [
    "q = Qfrom(zip(np.random.normal(size=10), np.random.normal(size=10)))\n",
    "\n",
    "q.select('0').plot_boxplot()\n",
    "q.select('0 as a, 1 as b').plot_boxplot()"
   ]
  },
  {
   "cell_type": "markdown",
   "metadata": {},
   "source": [
    "plot_scatter"
   ]
  },
  {
   "cell_type": "code",
   "execution_count": 144,
   "metadata": {},
   "outputs": [
    {
     "data": {
      "image/png": "[encoded data removed]",
      "text/plain": [
       "<Figure size 432x288 with 1 Axes>"
      ]
     },
     "metadata": {
      "needs_background": "light"
     },
     "output_type": "display_data"
    }
   ],
   "source": [
    "q = Qfrom(zip(np.random.normal(size=100), np.random.normal(size=100), np.random.normal(size=100), np.random.normal(size=100)))\n",
    "\n",
    "q.plot_scatter()"
   ]
  },
  {
   "cell_type": "markdown",
   "metadata": {},
   "source": [
    "**Fortgeschrittene Funktionen**"
   ]
  },
  {
   "cell_type": "markdown",
   "metadata": {},
   "source": [
    "\\_\\_call\\_\\_\n",
    "\n",
    "Die dunder-call Methode ist für Qfrom als Möglichkeit definiert eigene Funktionen als Extension-Methoden auf einem Qfrom-Objekt aufzurufen. Dabei können neben der Funktion weitere Parameter in call geschrieben werden, welche der Funktion übergeben werden."
   ]
  },
  {
   "cell_type": "code",
   "execution_count": 145,
   "metadata": {},
   "outputs": [
    {
     "name": "stdout",
     "output_type": "stream",
     "text": [
      "Qfrom(\t{'name': 'Jules', 'age': 25, 'gender': 'd'}\n",
      "\t{'name': 'Emma', 'age': 48, 'gender': 'w'}\n",
      "\t{'name': 'Bob', 'age': 29, 'gender': 'm'})\n"
     ]
    }
   ],
   "source": [
    "tab = '''\n",
    "name,age,gender\n",
    "Jules,25,d\n",
    "Emma,48,w\n",
    "Bob,29,m\n",
    "'''\n",
    "q = Qfrom(tab)\n",
    "print(q)"
   ]
  },
  {
   "cell_type": "code",
   "execution_count": 146,
   "metadata": {},
   "outputs": [
    {
     "name": "stdout",
     "output_type": "stream",
     "text": [
      "Qfrom(\t{'name': 'jules', 'age': 25, 'gender': 'd'}\n",
      "\t{'name': 'emma', 'age': 48, 'gender': 'w'}\n",
      "\t{'name': 'bob', 'age': 29, 'gender': 'm'})\n"
     ]
    }
   ],
   "source": [
    "def col_to_lower(qfrom, col_name):\n",
    "    return qfrom.edit(col_name, lambda x:x[col_name].lower())\n",
    "\n",
    "q_ = q(col_to_lower, 'name')\n",
    "print(q_)"
   ]
  },
  {
   "cell_type": "markdown",
   "metadata": {},
   "source": [
    "Wird call kein Parameter übergeben, so gibt diese die in Qfrom enthaltene Array zurück."
   ]
  },
  {
   "cell_type": "code",
   "execution_count": 147,
   "metadata": {},
   "outputs": [
    {
     "name": "stdout",
     "output_type": "stream",
     "text": [
      "[{'name': 'Jules', 'age': 25, 'gender': 'd'}\n",
      " {'name': 'Emma', 'age': 48, 'gender': 'w'}\n",
      " {'name': 'Bob', 'age': 29, 'gender': 'm'}]\n"
     ]
    }
   ],
   "source": [
    "print(q())"
   ]
  }
 ],
 "metadata": {
  "interpreter": {
   "hash": "1c0c7d119af777bedd22419ff0f7b67102ebc1fbdd708cb608ab02fbe6546504"
  },
  "kernelspec": {
   "display_name": "Python 3.10.0 64-bit",
   "language": "python",
   "name": "python3"
  },
  "language_info": {
   "codemirror_mode": {
    "name": "ipython",
    "version": 3
   },
   "file_extension": ".py",
   "mimetype": "text/x-python",
   "name": "python",
   "nbconvert_exporter": "python",
   "pygments_lexer": "ipython3",
   "version": "3.10.0"
  },
  "orig_nbformat": 4
 },
 "nbformat": 4,
 "nbformat_minor": 2
}
