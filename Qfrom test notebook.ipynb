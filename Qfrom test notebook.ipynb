{
 "cells": [
  {
   "cell_type": "code",
   "execution_count": 2,
   "metadata": {},
   "outputs": [],
   "source": [
    "import re\n",
    "from QfromPackage.Qfrom_tab_mod import Qfrom\n",
    "import pandas as pd\n",
    "import chardet\n",
    "import numpy as np\n",
    "from itertools import groupby\n",
    "import pickle\n",
    "import dill\n",
    "import math\n",
    "import time\n",
    "import requests\n",
    "import json\n",
    "import ast\n",
    "import matplotlib.pyplot as plt"
   ]
  },
  {
   "cell_type": "code",
   "execution_count": 3,
   "metadata": {},
   "outputs": [],
   "source": [
    "def add(a, b):\n",
    "    return a+b\n",
    "\n",
    "def increase(x):\n",
    "    return x+1"
   ]
  },
  {
   "cell_type": "code",
   "execution_count": 4,
   "metadata": {},
   "outputs": [
    {
     "data": {
      "text/plain": [
       "{1, 2, 4}"
      ]
     },
     "execution_count": 4,
     "metadata": {},
     "output_type": "execute_result"
    }
   ],
   "source": [
    "Qfrom([1, 2, 1, 4])(set)"
   ]
  },
  {
   "cell_type": "code",
   "execution_count": 5,
   "metadata": {},
   "outputs": [],
   "source": [
    "def f(qfrom, a, x):\n",
    "    return qfrom.edit_column(a, lambda item: item[a]+x)"
   ]
  },
  {
   "cell_type": "code",
   "execution_count": 6,
   "metadata": {},
   "outputs": [],
   "source": [
    "test_data_set = [\n",
    "    {'name': 'Ann', 'gender': 'w', 'age': 41, 'job_title': 'manager', 'manager': None, 'salary': 100_000},\n",
    "\n",
    "    {'name': 'Steven', 'gender': 'm', 'age': 42, 'job_title': 'manager', 'manager': 'Ann', 'salary': 80_000},\n",
    "    {'name': 'Max', 'gender': 'm', 'age': 31, 'job_title': 'employee', 'manager': 'Steven', 'salary': 60_000},\n",
    "    {'name': 'Julia', 'gender': 'w', 'age': 35, 'job_title': 'employee', 'manager': 'Steven', 'salary': 50_000},\n",
    "    {'name': 'Jack', 'gender': 'm', 'age': 38, 'job_title': 'employee', 'manager': 'Steven', 'salary': 48_000},\n",
    "    {'name': 'Clara', 'gender': 'w', 'age': 32, 'job_title': 'employee', 'manager': 'Steven', 'salary': 45_000},\n",
    "\n",
    "    {'name': 'Emma', 'gender': 'w', 'age': 48, 'job_title': 'manager', 'manager': 'Ann', 'salary': 80_000},\n",
    "    {'name': 'Anna', 'gender': 'w', 'age': 29, 'job_title': 'freelancer', 'manager': 'Emma', 'salary': 70_000},\n",
    "    {'name': 'Bob', 'gender': 'm', 'age': 25, 'job_title': 'freelancer', 'manager': 'Emma', 'salary': 45_000},\n",
    "    {'name': 'Lena', 'gender': 'w', 'age': 23, 'job_title': 'freelancer', 'manager': 'Emma', 'salary': 38_000},\n",
    "]"
   ]
  },
  {
   "cell_type": "code",
   "execution_count": 7,
   "metadata": {},
   "outputs": [
    {
     "name": "stdout",
     "output_type": "stream",
     "text": [
      "global funcs =  ['Iterable', 'Any', 'LifoQueue', 'StringIO', 'split_func_str_by_var', 'split_func_str_coma', 'split_col_in_source_target', 'get_used_vars_from_func_str', 'predicatestr_to_funcstr', 'selectarg_to_funcstr', 'trans_select_func', 'trans_select_func_args', 'trans_predicate_func', 'trans_predicate_func_args', 'trans_groupby_func_args', 'trans_flatten_func_args', 'trans_agg_func_args', 'try_parse_str', 'parse_iterable_to_array', 'parse_iterables_to_arrays', 'try_parse_str_to_collection', 'parse_str_to_collection', 'pass_none', 'first', 'will_be_tranformed_to_array', 'list_to_array', 'iter_table_dict', 'arr_set_value', 'get_func_output_col_count', 'get_func_args', 'get_key_array', 'group_by_dict', 'append_table_dict', 'order_by_table_dict', 'map_table_dict', 'where_table_dict', 'join_table_dict', 'join_cross_table_dict', 'join_id_table_dict', 'concat_table_dict', 'group_by_table_dict', 'flatten_table_dict', 'flattenjoin_table_dict', 'calc_operations', 'Operation', 'Qfrom']\n"
     ]
    },
    {
     "ename": "AttributeError",
     "evalue": "'Qfrom' object has no attribute 'order_by'",
     "output_type": "error",
     "traceback": [
      "\u001b[1;31m---------------------------------------------------------------------------\u001b[0m",
      "\u001b[1;31mAttributeError\u001b[0m                            Traceback (most recent call last)",
      "\u001b[1;32m~\\AppData\\Local\\Temp/ipykernel_21928/2816046618.py\u001b[0m in \u001b[0;36m<module>\u001b[1;34m\u001b[0m\n\u001b[0;32m      2\u001b[0m \u001b[0mQfrom\u001b[0m\u001b[1;33m(\u001b[0m\u001b[0mtest_data_set\u001b[0m\u001b[1;33m)\u001b[0m\u001b[0;31m\\\u001b[0m\u001b[1;33m\u001b[0m\u001b[1;33m\u001b[0m\u001b[0m\n\u001b[0;32m      3\u001b[0m     \u001b[1;33m.\u001b[0m\u001b[0mselect\u001b[0m\u001b[1;33m(\u001b[0m\u001b[1;34m'age, salary'\u001b[0m\u001b[1;33m)\u001b[0m\u001b[0;31m\\\u001b[0m\u001b[1;33m\u001b[0m\u001b[1;33m\u001b[0m\u001b[0m\n\u001b[1;32m----> 4\u001b[1;33m     \u001b[1;33m.\u001b[0m\u001b[0morder_by\u001b[0m\u001b[1;33m(\u001b[0m\u001b[1;34m'age'\u001b[0m\u001b[1;33m)\u001b[0m\u001b[0;31m\\\u001b[0m\u001b[1;33m\u001b[0m\u001b[1;33m\u001b[0m\u001b[0m\n\u001b[0m\u001b[0;32m      5\u001b[0m     \u001b[1;33m.\u001b[0m\u001b[0mplot\u001b[0m\u001b[1;33m(\u001b[0m\u001b[0mx\u001b[0m\u001b[1;33m=\u001b[0m\u001b[1;34m'age'\u001b[0m\u001b[1;33m)\u001b[0m\u001b[1;33m\u001b[0m\u001b[1;33m\u001b[0m\u001b[0m\n",
      "\u001b[1;31mAttributeError\u001b[0m: 'Qfrom' object has no attribute 'order_by'"
     ]
    }
   ],
   "source": [
    "Qfrom(test_data_set).where('age > 35').select('name, age')\n",
    "Qfrom(test_data_set)\\\n",
    "    .select('age, salary')\\\n",
    "    .order_by('age')\\\n",
    "    .plot(x='age')"
   ]
  },
  {
   "cell_type": "code",
   "execution_count": null,
   "metadata": {},
   "outputs": [
    {
     "data": {
      "image/png": "[encoded data removed]",
      "text/plain": [
       "<Figure size 432x288 with 4 Axes>"
      ]
     },
     "metadata": {
      "needs_background": "light"
     },
     "output_type": "display_data"
    }
   ],
   "source": [
    "q = Qfrom(test_data_set)\n",
    "\n",
    "figure, axis = plt.subplots(2, 2)\n",
    "q.select('age, salary').order_by('age').plot('age', axis=axis[0,0])\n",
    "q.where('gender==\"w\"').select('salary').plot_boxplot(axis=axis[0,1])\n",
    "q.select('age, salary').plot('age', axis=axis[1,0])\n",
    "q.where('gender==\"w\"').select('salary').plot_boxplot(axis=axis[1,1])\n",
    "\n",
    "plt.show()"
   ]
  },
  {
   "cell_type": "code",
   "execution_count": null,
   "metadata": {},
   "outputs": [
    {
     "name": "stdout",
     "output_type": "stream",
     "text": [
      "('manager', <itertools._grouper object at 0x0000023F82530F10>)\n",
      "\t {'name': 'Ann', 'gender': 'w', 'age': 41, 'job_title': 'manager', 'manager': None, 'salary': 100000}\n",
      "\t {'name': 'Steven', 'gender': 'm', 'age': 42, 'job_title': 'manager', 'manager': 'Ann', 'salary': 80000}\n",
      "('employee', <itertools._grouper object at 0x0000023F8044A830>)\n",
      "\t {'name': 'Max', 'gender': 'm', 'age': 31, 'job_title': 'employee', 'manager': 'Steven', 'salary': 60000}\n",
      "\t {'name': 'Julia', 'gender': 'w', 'age': 35, 'job_title': 'employee', 'manager': 'Steven', 'salary': 50000}\n",
      "\t {'name': 'Jack', 'gender': 'm', 'age': 38, 'job_title': 'employee', 'manager': 'Steven', 'salary': 48000}\n",
      "\t {'name': 'Clara', 'gender': 'w', 'age': 32, 'job_title': 'employee', 'manager': 'Steven', 'salary': 45000}\n",
      "('manager', <itertools._grouper object at 0x0000023F8268F100>)\n",
      "\t {'name': 'Emma', 'gender': 'w', 'age': 48, 'job_title': 'manager', 'manager': 'Ann', 'salary': 80000}\n",
      "('freelancer', <itertools._grouper object at 0x0000023F826EB9D0>)\n",
      "\t {'name': 'Anna', 'gender': 'w', 'age': 29, 'job_title': 'freelancer', 'manager': 'Emma', 'salary': 70000}\n",
      "\t {'name': 'Bob', 'gender': 'm', 'age': 25, 'job_title': 'freelancer', 'manager': 'Emma', 'salary': 45000}\n",
      "\t {'name': 'Lena', 'gender': 'w', 'age': 23, 'job_title': 'freelancer', 'manager': 'Emma', 'salary': 38000}\n"
     ]
    }
   ],
   "source": [
    "for group in groupby(test_data_set, key=lambda x:x['job_title']):\n",
    "    print(group)\n",
    "    for item in group[1]:\n",
    "        print('\\t', item)"
   ]
  },
  {
   "cell_type": "code",
   "execution_count": null,
   "metadata": {},
   "outputs": [
    {
     "data": {
      "text/plain": [
       "{'manager': 3, 'employee': 4, 'freelancer': 3}"
      ]
     },
     "execution_count": 9,
     "metadata": {},
     "output_type": "execute_result"
    }
   ],
   "source": [
    "Qfrom(test_data_set)\\\n",
    "    .group_by('job_title', 'age')\\\n",
    "    .edit('value', lambda x:len(x['value']))\\\n",
    "    .to_dict()"
   ]
  },
  {
   "cell_type": "code",
   "execution_count": null,
   "metadata": {},
   "outputs": [
    {
     "data": {
      "text/plain": [
       "Qfrom(\t{'name': 'Ann', 'gender': 'w', 'age': 0.8541666666666666, 'job_title': 'manager', 'manager': None, 'salary': 100000}\n",
       "\t{'name': 'Steven', 'gender': 'm', 'age': 0.875, 'job_title': 'manager', 'manager': 'Ann', 'salary': 80000}\n",
       "\t{'name': 'Max', 'gender': 'm', 'age': 0.6458333333333334, 'job_title': 'employee', 'manager': 'Steven', 'salary': 60000}\n",
       "\t{'name': 'Julia', 'gender': 'w', 'age': 0.7291666666666666, 'job_title': 'employee', 'manager': 'Steven', 'salary': 50000}\n",
       "\t{'name': 'Jack', 'gender': 'm', 'age': 0.7916666666666666, 'job_title': 'employee', 'manager': 'Steven', 'salary': 48000}\n",
       "\t{'name': 'Clara', 'gender': 'w', 'age': 0.6666666666666666, 'job_title': 'employee', 'manager': 'Steven', 'salary': 45000}\n",
       "\t{'name': 'Emma', 'gender': 'w', 'age': 1.0, 'job_title': 'manager', 'manager': 'Ann', 'salary': 80000}\n",
       "\t{'name': 'Anna', 'gender': 'w', 'age': 0.6041666666666666, 'job_title': 'freelancer', 'manager': 'Emma', 'salary': 70000}\n",
       "\t{'name': 'Bob', 'gender': 'm', 'age': 0.5208333333333334, 'job_title': 'freelancer', 'manager': 'Emma', 'salary': 45000}\n",
       "\t{'name': 'Lena', 'gender': 'w', 'age': 0.4791666666666667, 'job_title': 'freelancer', 'manager': 'Emma', 'salary': 38000})"
      ]
     },
     "execution_count": 10,
     "metadata": {},
     "output_type": "execute_result"
    }
   ],
   "source": [
    "Qfrom(test_data_set).norm('age')"
   ]
  },
  {
   "cell_type": "code",
   "execution_count": null,
   "metadata": {},
   "outputs": [
    {
     "data": {
      "text/plain": [
       "'item3.ef as e'"
      ]
     },
     "execution_count": 11,
     "metadata": {},
     "output_type": "execute_result"
    }
   ],
   "source": [
    "s = 'item1.ab as a, item2.cd, item3.ef as e'\n",
    "match = re.search('^(\\w+(\\.\\w+)*(\\s*as\\s*\\w+)?)(\\s*\\,\\s*(\\w+(\\.\\w+)*(\\s*as\\s*\\w+)?))*$', s)\n",
    "match[5]"
   ]
  },
  {
   "cell_type": "code",
   "execution_count": null,
   "metadata": {},
   "outputs": [
    {
     "data": {
      "image/png": "[encoded data removed]",
      "text/plain": [
       "<Figure size 432x288 with 1 Axes>"
      ]
     },
     "metadata": {
      "needs_background": "light"
     },
     "output_type": "display_data"
    }
   ],
   "source": [
    "data = '''a,b,c,d,e\n",
    "1,5,0,4,a\n",
    "2,3,7,6,b\n",
    "3,7,9,7,c\n",
    "4,5,5,3,d\n",
    "5,8,7,2,e\n",
    "'''\n",
    "Qfrom(data).plot_bar(title='Test')\n",
    "#Qfrom(test_data_set).plot_histogram()"
   ]
  },
  {
   "cell_type": "code",
   "execution_count": null,
   "metadata": {},
   "outputs": [
    {
     "name": "stdout",
     "output_type": "stream",
     "text": [
      "    0: \\x80 PROTO      4\n",
      "    2: \\x95 FRAME      44\n",
      "   11: \\x8c SHORT_BINUNICODE '__main__'\n",
      "   21: \\x94 MEMOIZE    (as 0)\n",
      "   22: \\x8c SHORT_BINUNICODE 'A'\n",
      "   25: \\x94 MEMOIZE    (as 1)\n",
      "   26: \\x93 STACK_GLOBAL\n",
      "   27: \\x94 MEMOIZE    (as 2)\n",
      "   28: )    EMPTY_TUPLE\n",
      "   29: \\x81 NEWOBJ\n",
      "   30: \\x94 MEMOIZE    (as 3)\n",
      "   31: }    EMPTY_DICT\n",
      "   32: \\x94 MEMOIZE    (as 4)\n",
      "   33: (    MARK\n",
      "   34: \\x8c     SHORT_BINUNICODE 'a'\n",
      "   37: \\x94     MEMOIZE    (as 5)\n",
      "   38: K        BININT1    1\n",
      "   40: \\x8c     SHORT_BINUNICODE 'b'\n",
      "   43: \\x94     MEMOIZE    (as 6)\n",
      "   44: K        BININT1    2\n",
      "   46: \\x8c     SHORT_BINUNICODE 'c'\n",
      "   49: \\x94     MEMOIZE    (as 7)\n",
      "   50: K        BININT1    0\n",
      "   52: u        SETITEMS   (MARK at 33)\n",
      "   53: b    BUILD\n",
      "   54: .    STOP\n",
      "highest protocol among opcodes = 4\n",
      "None\n"
     ]
    }
   ],
   "source": [
    "import pickletools\n",
    "def gen():\n",
    "    for i in range(5):\n",
    "        yield i\n",
    "\n",
    "class A():\n",
    "    def __init__(self, a, b):\n",
    "        self.a = a\n",
    "        self.b = b\n",
    "        self.c = 0\n",
    "\n",
    "    def add_c(self, x):\n",
    "        self.c += x\n",
    "\n",
    "    def __repr__(self):\n",
    "        return 'A('+str(self.a)+', '+str(self.b)+', '+str(self.c)+')'\n",
    "\n",
    "a = A(1, 2)\n",
    "a_s = pickle.dumps(a)\n",
    "a_p = pickle.loads(a_s)\n",
    "print(pickletools.dis(a_s))"
   ]
  },
  {
   "cell_type": "code",
   "execution_count": null,
   "metadata": {},
   "outputs": [
    {
     "data": {
      "text/plain": [
       "array([[-0.06284632,  0.93895365,  0.05164839],\n",
       "       [-0.25266075,  0.50544075,  0.70600808],\n",
       "       [-1.89624638,  0.82840752, -0.24783941],\n",
       "       [ 0.2735269 ,  0.31927161, -0.02751798],\n",
       "       [ 0.61240254,  0.43629893,  0.20484115]])"
      ]
     },
     "execution_count": 14,
     "metadata": {},
     "output_type": "execute_result"
    }
   ],
   "source": [
    "np.random.randn(5, 3)"
   ]
  },
  {
   "cell_type": "code",
   "execution_count": null,
   "metadata": {},
   "outputs": [
    {
     "name": "stdout",
     "output_type": "stream",
     "text": [
      "2\n"
     ]
    },
    {
     "data": {
      "text/plain": [
       "(array([0, 1, 2], dtype=object), array([0, 0, 0], dtype=object))"
      ]
     },
     "execution_count": 15,
     "metadata": {},
     "output_type": "execute_result"
    }
   ],
   "source": [
    "import inspect\n",
    "\n",
    "a = np.array([0, 0, 0])\n",
    "def f(item, i):\n",
    "    return (i, item)\n",
    "\n",
    "print(len(inspect.signature(f).parameters))\n",
    "f = np.frompyfunc(f, 2, 2)\n",
    "f(a, np.arange(a.size))\n"
   ]
  },
  {
   "cell_type": "code",
   "execution_count": null,
   "metadata": {},
   "outputs": [],
   "source": [
    "api_key = 'a02d201f8e1bd138f446fa59d23e82ec'\n",
    "city_name = 'Leipzig'\n",
    "prefix = 'https://'\n",
    "url = f'{prefix}api.openweathermap.org/data/2.5/weather?q={city_name}&appid={api_key}'\n",
    "#url = f'api.openweathermap.org/data/2.5/weather?q={city_name}&appid={api_key}'\n",
    "\n",
    "#j = requests.get(url).json()\n",
    "#json.loads(j)\n",
    "#Qfrom(url)\n",
    "#match = re.search('^(https://|http://)', url)\n",
    "#match\n",
    "#url\n",
    "#j"
   ]
  },
  {
   "cell_type": "code",
   "execution_count": null,
   "metadata": {},
   "outputs": [],
   "source": [
    "#url = 'https://developer.spotify.com/documentation/web-api/'\n",
    "#for item in requests.get(url).iter_lines:\n",
    "#    print(item)\n",
    "#requests.get(url).iter_lines"
   ]
  },
  {
   "cell_type": "code",
   "execution_count": null,
   "metadata": {},
   "outputs": [],
   "source": [
    "a = 1\n",
    "b = 2\n",
    "c = 3\n",
    "f1 = lambda x:x+a\n",
    "f2 = lambda x:x+b\n",
    "def f3(x):\n",
    "    return x+c\n",
    "\n",
    "#->\n",
    "def compined_op(x, t):\n",
    "    compined_op_output = x\n",
    "    while True:\n",
    "        compined_op_output = compined_op_output+t['a']\n",
    "        break\n",
    "    while True:\n",
    "        compined_op_output = compined_op_output+t['b']\n",
    "        break\n",
    "    while True:\n",
    "        compined_op_output = compined_op_output+t['c']\n",
    "        break\n",
    "    return compined_op_output"
   ]
  },
  {
   "cell_type": "code",
   "execution_count": null,
   "metadata": {},
   "outputs": [
    {
     "name": "stdout",
     "output_type": "stream",
     "text": [
      " x+5)))\n",
      "\n"
     ]
    },
    {
     "data": {
      "text/plain": [
       "[<ast.Module at 0x23f82530220>,\n",
       " <ast.Expr at 0x23f82532530>,\n",
       " <ast.ListComp at 0x23f8278fb80>,\n",
       " <ast.Name at 0x23f8278fee0>,\n",
       " <ast.comprehension at 0x23f827c3460>,\n",
       " <ast.Load at 0x23fd9bd30d0>,\n",
       " <ast.Name at 0x23f827c3490>,\n",
       " <ast.Call at 0x23f827c0a30>,\n",
       " <ast.Store at 0x23fd9bd3130>,\n",
       " <ast.Attribute at 0x23f827c0a60>,\n",
       " <ast.Call at 0x23f827c2440>,\n",
       " <ast.Name at 0x23f827c24a0>,\n",
       " <ast.Load at 0x23fd9bd30d0>,\n",
       " <ast.Attribute at 0x23f827c3370>,\n",
       " <ast.Call at 0x23f827c2410>,\n",
       " <ast.Load at 0x23fd9bd30d0>,\n",
       " <ast.Name at 0x23f827c1d50>,\n",
       " <ast.Load at 0x23fd9bd30d0>,\n",
       " <ast.Attribute at 0x23f827c22f0>,\n",
       " <ast.Lambda at 0x23f827c2530>,\n",
       " <ast.Load at 0x23fd9bd30d0>,\n",
       " <ast.Name at 0x23f827c2560>,\n",
       " <ast.Load at 0x23fd9bd30d0>,\n",
       " <ast.arguments at 0x23f827c23b0>,\n",
       " <ast.BinOp at 0x23f827c2140>,\n",
       " <ast.Load at 0x23fd9bd30d0>,\n",
       " <ast.arg at 0x23f827c2350>,\n",
       " <ast.Name at 0x23f827c2800>,\n",
       " <ast.Add at 0x23fd9bd3310>,\n",
       " <ast.Constant at 0x23f827c2650>,\n",
       " <ast.Load at 0x23fd9bd30d0>]"
      ]
     },
     "execution_count": 21,
     "metadata": {},
     "output_type": "execute_result"
    }
   ],
   "source": [
    "def get_code_from_lambda(lambda_str):\n",
    "    return re.sub('.*lambda\\s.*:', '', lambda_str)\n",
    "\n",
    "print(get_code_from_lambda(inspect.getsource(lambda x: x+5)))\n",
    "[item for item in ast.walk(ast.parse(inspect.getsource(lambda x: x+5)))]"
   ]
  },
  {
   "cell_type": "code",
   "execution_count": null,
   "metadata": {},
   "outputs": [
    {
     "name": "stdout",
     "output_type": "stream",
     "text": [
      "ops [<function <lambda> at 0x0000023F827A1510>, <function <lambda> at 0x0000023F827A3D00>, <function f3 at 0x0000023F827A3A30>]\n",
      "ops_source_lines [['f1 = lambda x:x+a\\n'], ['f2 = lambda x:x+b\\n'], ['def f3(x):\\n', '    d = 4\\n', '    return x+c+d\\n']]\n",
      "ops_closure_vars [ClosureVars(nonlocals={}, globals={'a': 1}, builtins={}, unbound=set()), ClosureVars(nonlocals={}, globals={'b': 2}, builtins={}, unbound=set()), ClosureVars(nonlocals={}, globals={'c': 3}, builtins={}, unbound=set())]\n",
      "ops_names ['<lambda>', '<lambda>', 'f3']\n",
      "ops_is_lambda [True, True, False]\n",
      "ops_paras [('x',), ('x',), ('x', 'd')]\n"
     ]
    },
    {
     "data": {
      "text/plain": [
       "()"
      ]
     },
     "execution_count": 22,
     "metadata": {},
     "output_type": "execute_result"
    }
   ],
   "source": [
    "a = 1\n",
    "b = 2\n",
    "c = 3\n",
    "\n",
    "f1 = lambda x:x+a\n",
    "f2 = lambda x:x+b\n",
    "def f3(x):\n",
    "    d = 4\n",
    "    return x+c+d\n",
    "\n",
    "ops = [f1, f2, f3]\n",
    "ops_source_lines = [inspect.getsourcelines(op)[0] for op in ops]\n",
    "ops_closure_vars = [inspect.getclosurevars(op) for op in ops]\n",
    "ops_names = [op.__name__ for op in ops]\n",
    "ops_is_lambda = [name == '<lambda>' for name in ops_names]\n",
    "ops_paras = [op.__code__.co_varnames for op in ops]\n",
    "\n",
    "\n",
    "\n",
    "print('ops', ops)\n",
    "print('ops_source_lines', ops_source_lines)\n",
    "print('ops_closure_vars', ops_closure_vars)\n",
    "print('ops_names', ops_names)\n",
    "print('ops_is_lambda', ops_is_lambda)\n",
    "print('ops_paras', ops_paras)\n",
    "#inspect.getclosurevars(f3)\n",
    "#f1.__name__\n",
    "f1.__code__.co_varnames\n",
    "f3.__code__.co_freevars"
   ]
  },
  {
   "cell_type": "code",
   "execution_count": null,
   "metadata": {},
   "outputs": [
    {
     "data": {
      "text/plain": [
       "array([4, 5, 6, 7, 8], dtype=object)"
      ]
     },
     "execution_count": 23,
     "metadata": {},
     "output_type": "execute_result"
    }
   ],
   "source": [
    "arr = np.array([1, 2, 3, 4, 5])\n",
    "func = lambda a,t:a+t['a']+t['b']\n",
    "\n",
    "func = np.frompyfunc(func, 2, 1)\n",
    "func(arr, {'a':1, 'b':2})"
   ]
  },
  {
   "cell_type": "code",
   "execution_count": null,
   "metadata": {},
   "outputs": [
    {
     "data": {
      "text/plain": [
       "[('_Obj__c', 2),\n",
       " ('__class__', __main__.Obj),\n",
       " ('__delattr__',\n",
       "  <method-wrapper '__delattr__' of Obj object at 0x0000023F8278FE20>),\n",
       " ('__dict__', {'a': 1, 'b': 0, '_Obj__c': 2}),\n",
       " ('__dir__', <function Obj.__dir__()>),\n",
       " ('__doc__', None),\n",
       " ('__eq__', <method-wrapper '__eq__' of Obj object at 0x0000023F8278FE20>),\n",
       " ('__format__', <function Obj.__format__(format_spec, /)>),\n",
       " ('__ge__', <method-wrapper '__ge__' of Obj object at 0x0000023F8278FE20>),\n",
       " ('__getattribute__',\n",
       "  <method-wrapper '__getattribute__' of Obj object at 0x0000023F8278FE20>),\n",
       " ('__gt__', <method-wrapper '__gt__' of Obj object at 0x0000023F8278FE20>),\n",
       " ('__hash__', <method-wrapper '__hash__' of Obj object at 0x0000023F8278FE20>),\n",
       " ('__init__',\n",
       "  <bound method Obj.__init__ of <__main__.Obj object at 0x0000023F8278FE20>>),\n",
       " ('__init_subclass__', <function Obj.__init_subclass__>),\n",
       " ('__le__', <method-wrapper '__le__' of Obj object at 0x0000023F8278FE20>),\n",
       " ('__lt__', <method-wrapper '__lt__' of Obj object at 0x0000023F8278FE20>),\n",
       " ('__module__', '__main__'),\n",
       " ('__ne__', <method-wrapper '__ne__' of Obj object at 0x0000023F8278FE20>),\n",
       " ('__new__', <function object.__new__(*args, **kwargs)>),\n",
       " ('__reduce__', <function Obj.__reduce__()>),\n",
       " ('__reduce_ex__', <function Obj.__reduce_ex__(protocol, /)>),\n",
       " ('__repr__', <method-wrapper '__repr__' of Obj object at 0x0000023F8278FE20>),\n",
       " ('__setattr__',\n",
       "  <method-wrapper '__setattr__' of Obj object at 0x0000023F8278FE20>),\n",
       " ('__sizeof__', <function Obj.__sizeof__()>),\n",
       " ('__str__', <method-wrapper '__str__' of Obj object at 0x0000023F8278FE20>),\n",
       " ('__subclasshook__', <function Obj.__subclasshook__>),\n",
       " ('__weakref__', None),\n",
       " ('a', 1),\n",
       " ('b', 0)]"
      ]
     },
     "execution_count": 24,
     "metadata": {},
     "output_type": "execute_result"
    }
   ],
   "source": [
    "class Obj():\n",
    "    def __init__(self, a, c):\n",
    "        self.a = a\n",
    "        self.b = 0\n",
    "        self.__c = c\n",
    "\n",
    "o = Obj(1,2)\n",
    "inspect.getmembers(o)"
   ]
  },
  {
   "cell_type": "code",
   "execution_count": null,
   "metadata": {},
   "outputs": [
    {
     "name": "stdout",
     "output_type": "stream",
     "text": [
      "a 1 ; b 4\n",
      "a 2 ; b 5\n",
      "a 3 ; b 6\n"
     ]
    }
   ],
   "source": [
    "a_arr = np.array([1, 2, 3])\n",
    "b_arr = np.array([4, 5, 6])\n",
    "ab_arr = np.column_stack((a_arr,b_arr))\n",
    "for a, b in ab_arr:\n",
    "    print('a', a, '; b', b)"
   ]
  },
  {
   "cell_type": "markdown",
   "metadata": {},
   "source": [
    "| a | b | c |\n",
    "| - | - | - |"
   ]
  },
  {
   "cell_type": "markdown",
   "metadata": {},
   "source": []
  },
  {
   "cell_type": "code",
   "execution_count": null,
   "metadata": {},
   "outputs": [],
   "source": []
  },
  {
   "cell_type": "code",
   "execution_count": null,
   "metadata": {},
   "outputs": [
    {
     "data": {
      "text/plain": [
       "{'x': <Parameter \"x\">, 'y': <Parameter \"y\">}"
      ]
     },
     "execution_count": 36,
     "metadata": {},
     "output_type": "execute_result"
    }
   ],
   "source": [
    "dict(inspect.signature(lambda x,y:1).parameters)"
   ]
  },
  {
   "cell_type": "code",
   "execution_count": null,
   "metadata": {},
   "outputs": [
    {
     "data": {
      "text/plain": [
       "('x', 'y')"
      ]
     },
     "execution_count": 37,
     "metadata": {},
     "output_type": "execute_result"
    }
   ],
   "source": [
    "def f(x, y):\n",
    "    return 1\n",
    "(lambda x,y:1).__code__.co_varnames"
   ]
  },
  {
   "cell_type": "code",
   "execution_count": null,
   "metadata": {},
   "outputs": [],
   "source": [
    "import re\n",
    "\n",
    "possible_chars = '[a-zA-Z]'\n",
    "re.findall('(^|,)(\\w+)', 'a, b<3 as c, b in [1, 2, 3] as d, b is not None as e')"
   ]
  },
  {
   "cell_type": "code",
   "execution_count": null,
   "metadata": {},
   "outputs": [
    {
     "name": "stdout",
     "output_type": "stream",
     "text": [
      "2\n",
      "3\n"
     ]
    }
   ],
   "source": [
    "for x in {1, 2, 3} & {2, 3, 4}:\n",
    "    print(x)"
   ]
  },
  {
   "cell_type": "code",
   "execution_count": null,
   "metadata": {},
   "outputs": [
    {
     "data": {
      "text/plain": [
       "array([1, 2, 3, None, None, None], dtype=object)"
      ]
     },
     "execution_count": 31,
     "metadata": {},
     "output_type": "execute_result"
    }
   ],
   "source": [
    "np.append(np.array([1, 2, 3]), [None, None, None])"
   ]
  },
  {
   "cell_type": "code",
   "execution_count": null,
   "metadata": {},
   "outputs": [
    {
     "data": {
      "text/plain": [
       "array([None, None, None], dtype=object)"
      ]
     },
     "execution_count": 32,
     "metadata": {},
     "output_type": "execute_result"
    }
   ],
   "source": [
    "np.full(3, None)"
   ]
  },
  {
   "cell_type": "code",
   "execution_count": null,
   "metadata": {},
   "outputs": [
    {
     "data": {
      "text/plain": [
       "array([1, 2, None], dtype=object)"
      ]
     },
     "execution_count": 38,
     "metadata": {},
     "output_type": "execute_result"
    }
   ],
   "source": [
    "np.array(np.array([1, 2, None]))"
   ]
  },
  {
   "cell_type": "code",
   "execution_count": null,
   "metadata": {},
   "outputs": [
    {
     "data": {
      "text/plain": [
       "[1, 2, 3]"
      ]
     },
     "execution_count": 2,
     "metadata": {},
     "output_type": "execute_result"
    }
   ],
   "source": [
    "class A:\n",
    "    def __init__(self, a, b):\n",
    "        self.a = a\n",
    "        self.b = b\n",
    "    def __iter__(self):\n",
    "        return iter(self.b)\n",
    "    def __getitem__(self, key):\n",
    "        return self.b[key]\n",
    "    def tolist(self):\n",
    "        return self.b\n",
    "    def __str__(self):\n",
    "        return f'A({self.a}, {self.b})'\n",
    "    def __repr__(self):\n",
    "        return str(self)\n",
    "\n",
    "A(1, [1,2,3]).tolist()"
   ]
  },
  {
   "cell_type": "code",
   "execution_count": null,
   "metadata": {},
   "outputs": [
    {
     "data": {
      "text/plain": [
       "array([A(1, [1, 2]), A(2, [3, 4, 5]), A(3, [6])], dtype=object)"
      ]
     },
     "execution_count": 3,
     "metadata": {},
     "output_type": "execute_result"
    }
   ],
   "source": [
    "np.array(np.array([A(1, [1, 2]), A(2, [3, 4, 5]), A(3, [6])]))"
   ]
  },
  {
   "cell_type": "code",
   "execution_count": null,
   "metadata": {},
   "outputs": [
    {
     "data": {
      "text/plain": [
       "array([A(1, {'a': array([1, 2])}), A(2, {'a': array([3, 4, 5])})],\n",
       "      dtype=object)"
      ]
     },
     "execution_count": 4,
     "metadata": {},
     "output_type": "execute_result"
    }
   ],
   "source": [
    "np.array([A(1, {'a': np.array([1, 2])}), A(2, {'a': np.array([3, 4, 5])})])"
   ]
  },
  {
   "cell_type": "code",
   "execution_count": null,
   "metadata": {},
   "outputs": [
    {
     "data": {
      "text/plain": [
       "array([[[1, 4],\n",
       "        [2, 5],\n",
       "        [3, 6]],\n",
       "\n",
       "       [[1, 4],\n",
       "        [2, 5],\n",
       "        [3, 6]],\n",
       "\n",
       "       [[1, 4],\n",
       "        [2, 5],\n",
       "        [3, 6]]])"
      ]
     },
     "execution_count": 5,
     "metadata": {},
     "output_type": "execute_result"
    }
   ],
   "source": [
    "from QfromPackage.Qfrom_tab_mod import Qfrom, first\n",
    "import numpy as np\n",
    " \n",
    "q = Qfrom({'a':[1, 2, 3], 'b':[4, 5, 6]})\n",
    "l = [q, q, q]\n",
    "np.array(l)"
   ]
  },
  {
   "cell_type": "code",
   "execution_count": null,
   "metadata": {},
   "outputs": [
    {
     "data": {
      "text/plain": [
       "Qfrom\n",
       "key\tgroup\n",
       "1\tQfrom\n",
       "a\tb\n",
       "a\t4\n",
       "d\t6\n",
       "2\tQfrom\n",
       "a\tb\n",
       "bc\t5"
      ]
     },
     "execution_count": 2,
     "metadata": {},
     "output_type": "execute_result"
    }
   ],
   "source": [
    "q = Qfrom({'a':['a', 'bc', 'd'], 'b':[4, 5, 6]})\n",
    "q.groupby('len(a)')"
   ]
  },
  {
   "cell_type": "code",
   "execution_count": null,
   "metadata": {},
   "outputs": [
    {
     "data": {
      "text/plain": [
       "Qfrom\n",
       "a\n",
       "1\n",
       "2\n",
       "3"
      ]
     },
     "execution_count": 9,
     "metadata": {},
     "output_type": "execute_result"
    }
   ],
   "source": [
    "q = Qfrom({'a':[1, 2, 3], 'b':[4, 5, 6]})\n",
    "q['-b']"
   ]
  },
  {
   "cell_type": "code",
   "execution_count": null,
   "metadata": {},
   "outputs": [
    {
     "name": "stderr",
     "output_type": "stream",
     "text": [
      "c:\\Users\\Max\\Documents\\Projekte\\GitHub\\Qfrom\\QfromPackage\\Qfrom_tab_mod.py:924: VisibleDeprecationWarning: Creating an ndarray from ragged nested sequences (which is a list-or-tuple of lists-or-tuples-or ndarrays with different lengths or shapes) is deprecated. If you meant to do this, you must specify 'dtype=object' when creating the ndarray.\n",
      "  self.table_dict = {key:np.array(value) for key, value in collection.items()}\n"
     ]
    },
    {
     "data": {
      "text/plain": [
       "Qfrom\n",
       "a\tc\td\tb\n",
       "1\t1\t2\t[(1, 2), (3, 4)]\n",
       "1\t3\t4\t[(1, 2), (3, 4)]\n",
       "2\t5\t6\t[(5, 6)]\n",
       "3\t7\t8\t[(7, 8), (9, 10)]\n",
       "3\t9\t10\t[(7, 8), (9, 10)]"
      ]
     },
     "execution_count": 4,
     "metadata": {},
     "output_type": "execute_result"
    }
   ],
   "source": [
    "#q = Qfrom({'a':[1, 2, 3], 'b':[[(1, 2), (3, 4)], [(5, 6)], [(7, 8), (9, 10)], None]})\n",
    "#q.flatten('b', pass_none=True)\n",
    "q = Qfrom({'a':[1, 2, 3], 'b':[[(1, 2), (3, 4)], [(5, 6)], [(7, 8), (9, 10)]]})\n",
    "q.flatten_join('b', 'c, d').select('a,c,d,b')"
   ]
  },
  {
   "cell_type": "code",
   "execution_count": null,
   "metadata": {},
   "outputs": [
    {
     "data": {
      "text/plain": [
       "Qfrom\n",
       "a\tb\n",
       "1\t5\n",
       "2\t6\n",
       "None\t9"
      ]
     },
     "execution_count": 5,
     "metadata": {},
     "output_type": "execute_result"
    }
   ],
   "source": [
    "q = Qfrom({'a': [1, 2, 3, 4, None], 'b': [5, 6, 7, 8, 9]})\n",
    "q.groupby_pn('a%2').flatten('group')\n",
    "q.groupby_pn('a%2').select(lambda group:group[0], q.columns())"
   ]
  },
  {
   "cell_type": "code",
   "execution_count": null,
   "metadata": {},
   "outputs": [
    {
     "name": "stdout",
     "output_type": "stream",
     "text": [
      "i=0, col=array([1, 3, 5])\n",
      "i=1, col=array([2, 4, 6])\n"
     ]
    }
   ],
   "source": [
    "a1 = np.array([1, 2, 3])\n",
    "a2 = np.array([(1, 2), (3, 4), (5, 6)])\n",
    "a2_ = np.rot90(a2)\n",
    "i=1\n",
    "a2_[len(a2_)-1-i]\n",
    "for i, col in enumerate(a2_[::-1]):\n",
    "    print(f'{i=}, {col=}')\n",
    "#a2.shape"
   ]
  },
  {
   "cell_type": "code",
   "execution_count": null,
   "metadata": {},
   "outputs": [
    {
     "data": {
      "text/plain": [
       "(3, 3, 6, 7, 2, 9)"
      ]
     },
     "execution_count": 8,
     "metadata": {},
     "output_type": "execute_result"
    }
   ],
   "source": [
    "q = Qfrom({'a': [1, 2, 2, 3, 3], 'b': [5, 5, 5, 6, 7]})\n",
    "#q.groupby('a,b').select(lambda group:first(group), q.columns())\n",
    "q.groupby('a,b').select(lambda group:group[0], q.columns())\n",
    "#q.unique(lambda a,b: a+b)\n",
    "q.agg('max(a), min(a), sum(a), max(b), min(b), sum(b)')"
   ]
  },
  {
   "cell_type": "code",
   "execution_count": null,
   "metadata": {},
   "outputs": [
    {
     "data": {
      "text/plain": [
       "[(1, 4), (2, 5), (3, 6)]"
      ]
     },
     "execution_count": 14,
     "metadata": {},
     "output_type": "execute_result"
    }
   ],
   "source": [
    "list(zip((1, 2, 3), (4, 5, 6)))"
   ]
  },
  {
   "cell_type": "code",
   "execution_count": null,
   "metadata": {},
   "outputs": [
    {
     "data": {
      "text/plain": [
       "Qfrom\n",
       "name\talter\ti\n",
       "max\t24\t1\n",
       "lotte\t28\t2"
      ]
     },
     "execution_count": 38,
     "metadata": {},
     "output_type": "execute_result"
    }
   ],
   "source": [
    "csv = '''\n",
    "name,alter,gender,hobbies\n",
    "konrad,15,m,\"videos schauen, zocken, videos drehen, musik hören\"\n",
    "max,24,m,\"programmieren, musik spielen, lesen\"\n",
    "lotte,28,w,\"puzzlen, lesen\"\n",
    "ferdi,23,m,\"physik, musik spielen\"\n",
    "louisa,21,w,\"lesen,freund:innen treffen\"\n",
    "'''\n",
    "\n",
    "q = Qfrom(csv)\n",
    "q.select_join('i')[1:3]['name, alter, i']"
   ]
  },
  {
   "cell_type": "code",
   "execution_count": null,
   "metadata": {},
   "outputs": [
    {
     "data": {
      "text/plain": [
       "'ab'"
      ]
     },
     "execution_count": 5,
     "metadata": {},
     "output_type": "execute_result"
    }
   ],
   "source": [
    "'abc'[0:2]"
   ]
  },
  {
   "cell_type": "code",
   "execution_count": null,
   "metadata": {},
   "outputs": [
    {
     "ename": "SyntaxError",
     "evalue": "invalid syntax (Temp/ipykernel_17072/275586814.py, line 3)",
     "output_type": "error",
     "traceback": [
      "\u001b[1;36m  File \u001b[1;32m\"C:\\Users\\Max\\AppData\\Local\\Temp/ipykernel_17072/275586814.py\"\u001b[1;36m, line \u001b[1;32m3\u001b[0m\n\u001b[1;33m    a = (abc=1, de=2)\u001b[0m\n\u001b[1;37m            ^\u001b[0m\n\u001b[1;31mSyntaxError\u001b[0m\u001b[1;31m:\u001b[0m invalid syntax\n"
     ]
    }
   ],
   "source": [
    "def d(**kwrgs):\n",
    "    return kwrgs\n",
    "a = (abc=1, de=2)\n",
    "d(a*)"
   ]
  },
  {
   "cell_type": "code",
   "execution_count": null,
   "metadata": {},
   "outputs": [
    {
     "ename": "SyntaxError",
     "evalue": "invalid syntax (Temp/ipykernel_17072/1205179059.py, line 1)",
     "output_type": "error",
     "traceback": [
      "\u001b[1;36m  File \u001b[1;32m\"C:\\Users\\Max\\AppData\\Local\\Temp/ipykernel_17072/1205179059.py\"\u001b[1;36m, line \u001b[1;32m1\u001b[0m\n\u001b[1;33m    (1:2:1)\u001b[0m\n\u001b[1;37m      ^\u001b[0m\n\u001b[1;31mSyntaxError\u001b[0m\u001b[1;31m:\u001b[0m invalid syntax\n"
     ]
    }
   ],
   "source": [
    "(1:2:1)"
   ]
  },
  {
   "cell_type": "code",
   "execution_count": null,
   "metadata": {},
   "outputs": [
    {
     "data": {
      "text/plain": [
       "dict_values([[1, 2, 3], [4, 5, 6]])"
      ]
     },
     "execution_count": 17,
     "metadata": {},
     "output_type": "execute_result"
    }
   ],
   "source": [
    "d={'a':[1,2,3], 'b':[4,5,6]}\n",
    "d.values()"
   ]
  },
  {
   "cell_type": "code",
   "execution_count": null,
   "metadata": {},
   "outputs": [
    {
     "data": {
      "image/png": "[encoded data removed]",
      "text/plain": [
       "<Figure size 864x432 with 1 Axes>"
      ]
     },
     "metadata": {
      "needs_background": "light"
     },
     "output_type": "display_data"
    }
   ],
   "source": [
    "csv = '''\n",
    "a,b,c\n",
    "1,6,3\n",
    "2,2,5\n",
    "3,4,6\n",
    "'''\n",
    "Qfrom(csv)['b,c'].plot(figsize=(12,6))"
   ]
  },
  {
   "cell_type": "code",
   "execution_count": null,
   "metadata": {},
   "outputs": [
    {
     "name": "stdout",
     "output_type": "stream",
     "text": [
      "(1, 2, 3, 4)\n"
     ]
    }
   ],
   "source": [
    "f = lambda *t: print(t)\n",
    "f(1, 2, 3, 4)"
   ]
  },
  {
   "cell_type": "code",
   "execution_count": null,
   "metadata": {},
   "outputs": [
    {
     "data": {
      "text/plain": [
       "Qfrom\n",
       "a\tb\n",
       "10\t1\n",
       "1\t2\n",
       "2\t3\n",
       "3\t4\n",
       "4\t5"
      ]
     },
     "execution_count": 7,
     "metadata": {},
     "output_type": "execute_result"
    }
   ],
   "source": [
    "q = Qfrom({'a':i, 'b':i+1} for i in range(5))\n",
    "q['a', 0] = 10\n",
    "q"
   ]
  },
  {
   "cell_type": "code",
   "execution_count": null,
   "metadata": {},
   "outputs": [
    {
     "name": "stdout",
     "output_type": "stream",
     "text": [
      "args=(('a', 'b'),)\n"
     ]
    },
    {
     "data": {
      "text/plain": [
       "Qfrom\n",
       "a\tb\n",
       "1\t5\n",
       "2\t6\n",
       "3\t7"
      ]
     },
     "execution_count": 11,
     "metadata": {},
     "output_type": "execute_result"
    }
   ],
   "source": [
    "q = Qfrom({'a': [1, 2, 3], 'b': [5, 6, 7]})\n",
    "#q.agg_pairs(lambda a, b: (a[0]+a[1], b[0]+b[1]))\n",
    "#q[lambda a,i: (i,a), 'i,a']\n",
    "q['a', 'b']"
   ]
  },
  {
   "cell_type": "code",
   "execution_count": null,
   "metadata": {},
   "outputs": [
    {
     "data": {
      "text/plain": [
       "Qfrom\n",
       "text\tx\ttag\n",
       "c\t1\t\n",
       "b\t2\t\n",
       "c\t5\t\n",
       "d\t3\t\n",
       "e\t7\t"
      ]
     },
     "execution_count": 19,
     "metadata": {},
     "output_type": "execute_result"
    }
   ],
   "source": [
    "data = '''\n",
    "text,x\n",
    "a,1\n",
    "b,2\n",
    "c,5\n",
    "d,3\n",
    "e,7\n",
    "'''\n",
    "q = Qfrom(data)\n",
    "q['text', 0] = 'cbd'\n",
    "q = q.select_join(lambda a: '', 'tag')\n",
    "q"
   ]
  },
  {
   "cell_type": "code",
   "execution_count": null,
   "metadata": {},
   "outputs": [
    {
     "data": {
      "text/plain": [
       "Qfrom\n",
       "a\tb\n",
       "2\ta\n",
       "3\ta\n",
       "4\tb"
      ]
     },
     "execution_count": 24,
     "metadata": {},
     "output_type": "execute_result"
    }
   ],
   "source": [
    "q1 = Qfrom({'a':[1, 2, 3], 'b':['a', 'a', 'a']})\n",
    "q2 = Qfrom({'a':[2, 3, 4], 'b':['b', 'b', 'b']})\n",
    "q1.join_outer_right(q2, {'a':'a'})"
   ]
  },
  {
   "cell_type": "code",
   "execution_count": null,
   "metadata": {},
   "outputs": [
    {
     "data": {
      "text/plain": [
       "Qfrom\n",
       "a\n",
       "[1 2 3]\n",
       "[2 3 4]"
      ]
     },
     "execution_count": 28,
     "metadata": {},
     "output_type": "execute_result"
    }
   ],
   "source": [
    "q = Qfrom({'a': [1, 2, 3]})\n",
    "q.select(lambda a: {'a':(a, a+1)})\n",
    "q.select(lambda a: (a, a+1), 'a')"
   ]
  },
  {
   "cell_type": "code",
   "execution_count": null,
   "metadata": {},
   "outputs": [
    {
     "data": {
      "text/plain": [
       "array([{1, 2}, {2, 3}, {3, 4, 5}], dtype=object)"
      ]
     },
     "execution_count": 33,
     "metadata": {},
     "output_type": "execute_result"
    }
   ],
   "source": [
    "np.array([{1, 2}, {2, 3}, {3, 4, 5}])"
   ]
  },
  {
   "cell_type": "code",
   "execution_count": null,
   "metadata": {},
   "outputs": [
    {
     "data": {
      "text/plain": [
       "Qfrom\n",
       "a\n",
       "t(1, 2, 3)\n",
       "t(2, 3, 4)\n",
       "t(3, 4, 5)"
      ]
     },
     "execution_count": 7,
     "metadata": {},
     "output_type": "execute_result"
    }
   ],
   "source": [
    "class t:\n",
    "    def __init__(self, *args):\n",
    "        self.data = list(args)\n",
    "    \n",
    "    def __getitem__(self, key):\n",
    "        return self.data[key]\n",
    "    \n",
    "    def __len__(self):\n",
    "        return len(self.data)\n",
    "\n",
    "    def __eq__(self, other):\n",
    "        if type(self) != type(other):\n",
    "            return False\n",
    "        return self.data == other.data\n",
    "    \n",
    "    def __str__(self):\n",
    "        data_str = ', '.join(str(item) for item in self.data)\n",
    "        return f't({data_str})'\n",
    "    def __repr__(self):\n",
    "        return str(self)\n",
    "\n",
    "q = Qfrom({'a': [1, 2, 3]})\n",
    "q = q.select(lambda a: {'a': t(a, a+1, a+2)})\n",
    "#np.array(q)\n",
    "q"
   ]
  },
  {
   "cell_type": "code",
   "execution_count": null,
   "metadata": {},
   "outputs": [
    {
     "data": {
      "text/plain": [
       "Qfrom\n",
       "a\n",
       "[1 2 3]\n",
       "[2 3 4]\n",
       "[3 4 5]"
      ]
     },
     "execution_count": 9,
     "metadata": {},
     "output_type": "execute_result"
    }
   ],
   "source": [
    "Qfrom({'a': [t(1, 2, 3), t(2, 3, 4), t(3, 4, 5)]})"
   ]
  },
  {
   "cell_type": "code",
   "execution_count": null,
   "metadata": {},
   "outputs": [
    {
     "data": {
      "text/plain": [
       "True"
      ]
     },
     "execution_count": 12,
     "metadata": {},
     "output_type": "execute_result"
    }
   ],
   "source": [
    "l = [t(1, 2, 3), t(2, 3, 4), t(3, 4, 5)]\n",
    "\n",
    "a1 = np.empty(3, dtype=object)\n",
    "a1[:] = l\n",
    "a2 = np.empty(3, dtype=object)\n",
    "a2[:] = l\n",
    "\n",
    "np.array_equal(a1, a2)"
   ]
  },
  {
   "cell_type": "code",
   "execution_count": null,
   "metadata": {},
   "outputs": [
    {
     "name": "stdout",
     "output_type": "stream",
     "text": [
      "Qfrom\n",
      "a\n",
      "[1 2 3]\n",
      "[2 3 4]\n",
      "[3 4 5]\n",
      "Qfrom\n",
      "a\n",
      "[1 2 3]\n",
      "[2 3 4]\n",
      "[3 4 5]\n"
     ]
    },
    {
     "data": {
      "text/plain": [
       "True"
      ]
     },
     "execution_count": 14,
     "metadata": {},
     "output_type": "execute_result"
    }
   ],
   "source": [
    "q1 = Qfrom({'a': [1, 2, 3]})\n",
    "q1 = q1.select(lambda a: {'a': t(a, a+1, a+2)})\n",
    "q2 = Qfrom({'a': [1, 2, 3]})\n",
    "q2 = q2.select(lambda a: {'a': t(a, a+1, a+2)})\n",
    "print(q1)\n",
    "print(q2)\n",
    "q1 == q2"
   ]
  },
  {
   "cell_type": "code",
   "execution_count": null,
   "metadata": {},
   "outputs": [
    {
     "data": {
      "text/plain": [
       "Qfrom\n",
       "a\n",
       "[1, 2]\n",
       "[2, 3]\n",
       "[3, 4]"
      ]
     },
     "execution_count": 13,
     "metadata": {},
     "output_type": "execute_result"
    }
   ],
   "source": [
    "q1 = Qfrom({'a': [1, 2, 3]})\n",
    "q1.select(lambda a: {'a':[a, a+1]})"
   ]
  },
  {
   "cell_type": "code",
   "execution_count": null,
   "metadata": {},
   "outputs": [
    {
     "data": {
      "text/plain": [
       "True"
      ]
     },
     "execution_count": 21,
     "metadata": {},
     "output_type": "execute_result"
    }
   ],
   "source": [
    "l = [1, 2, 3]\n",
    "class_dir = dir(type(l))\n",
    "'__len__' in class_dir and '__getitem__' in class_dir"
   ]
  },
  {
   "cell_type": "code",
   "execution_count": null,
   "metadata": {},
   "outputs": [
    {
     "name": "stdout",
     "output_type": "stream",
     "text": [
      "a\n",
      "b\n"
     ]
    },
    {
     "data": {
      "text/plain": [
       "True"
      ]
     },
     "execution_count": 11,
     "metadata": {},
     "output_type": "execute_result"
    }
   ],
   "source": [
    "d = {'a':1, 'b':2}\n",
    "for key in d:\n",
    "    print(key)\n",
    "'a' in d"
   ]
  },
  {
   "cell_type": "code",
   "execution_count": null,
   "metadata": {},
   "outputs": [
    {
     "data": {
      "text/plain": [
       "False"
      ]
     },
     "execution_count": 22,
     "metadata": {},
     "output_type": "execute_result"
    }
   ],
   "source": [
    "'sum' in dir()\n",
    "#eval('Qfrom')"
   ]
  },
  {
   "cell_type": "code",
   "execution_count": null,
   "metadata": {},
   "outputs": [
    {
     "data": {
      "text/plain": [
       "2"
      ]
     },
     "execution_count": 16,
     "metadata": {},
     "output_type": "execute_result"
    }
   ],
   "source": [
    "def f(x):\n",
    "    return x+1\n",
    "\n",
    "eval('f(1)')"
   ]
  },
  {
   "cell_type": "code",
   "execution_count": null,
   "metadata": {},
   "outputs": [
    {
     "data": {
      "text/plain": [
       "['False',\n",
       " 'None',\n",
       " 'True',\n",
       " 'and',\n",
       " 'as',\n",
       " 'assert',\n",
       " 'async',\n",
       " 'await',\n",
       " 'break',\n",
       " 'class',\n",
       " 'continue',\n",
       " 'def',\n",
       " 'del',\n",
       " 'elif',\n",
       " 'else',\n",
       " 'except',\n",
       " 'finally',\n",
       " 'for',\n",
       " 'from',\n",
       " 'global',\n",
       " 'if',\n",
       " 'import',\n",
       " 'in',\n",
       " 'is',\n",
       " 'lambda',\n",
       " 'nonlocal',\n",
       " 'not',\n",
       " 'or',\n",
       " 'pass',\n",
       " 'raise',\n",
       " 'return',\n",
       " 'try',\n",
       " 'while',\n",
       " 'with',\n",
       " 'yield']"
      ]
     },
     "execution_count": 21,
     "metadata": {},
     "output_type": "execute_result"
    }
   ],
   "source": [
    "import keyword\n",
    "keyword.kwlist"
   ]
  },
  {
   "cell_type": "code",
   "execution_count": null,
   "metadata": {},
   "outputs": [
    {
     "data": {
      "text/plain": [
       "True"
      ]
     },
     "execution_count": 26,
     "metadata": {},
     "output_type": "execute_result"
    }
   ],
   "source": [
    "import builtins\n",
    "'len' in dir(builtins)"
   ]
  },
  {
   "cell_type": "code",
   "execution_count": null,
   "metadata": {},
   "outputs": [
    {
     "name": "stdout",
     "output_type": "stream",
     "text": [
      "f(a) -> lambda f, a: f(a), (0,), lambda x: {0: x[0]}\n"
     ]
    },
    {
     "ename": "TypeError",
     "evalue": "'int' object is not callable",
     "output_type": "error",
     "traceback": [
      "\u001b[1;31m---------------------------------------------------------------------------\u001b[0m",
      "\u001b[1;31mTypeError\u001b[0m                                 Traceback (most recent call last)",
      "\u001b[1;32mc:\\Users\\Max\\AppData\\Local\\Programs\\Python\\Python310\\lib\\site-packages\\IPython\\core\\formatters.py\u001b[0m in \u001b[0;36m__call__\u001b[1;34m(self, obj)\u001b[0m\n\u001b[0;32m    700\u001b[0m                 \u001b[0mtype_pprinters\u001b[0m\u001b[1;33m=\u001b[0m\u001b[0mself\u001b[0m\u001b[1;33m.\u001b[0m\u001b[0mtype_printers\u001b[0m\u001b[1;33m,\u001b[0m\u001b[1;33m\u001b[0m\u001b[1;33m\u001b[0m\u001b[0m\n\u001b[0;32m    701\u001b[0m                 deferred_pprinters=self.deferred_printers)\n\u001b[1;32m--> 702\u001b[1;33m             \u001b[0mprinter\u001b[0m\u001b[1;33m.\u001b[0m\u001b[0mpretty\u001b[0m\u001b[1;33m(\u001b[0m\u001b[0mobj\u001b[0m\u001b[1;33m)\u001b[0m\u001b[1;33m\u001b[0m\u001b[1;33m\u001b[0m\u001b[0m\n\u001b[0m\u001b[0;32m    703\u001b[0m             \u001b[0mprinter\u001b[0m\u001b[1;33m.\u001b[0m\u001b[0mflush\u001b[0m\u001b[1;33m(\u001b[0m\u001b[1;33m)\u001b[0m\u001b[1;33m\u001b[0m\u001b[1;33m\u001b[0m\u001b[0m\n\u001b[0;32m    704\u001b[0m             \u001b[1;32mreturn\u001b[0m \u001b[0mstream\u001b[0m\u001b[1;33m.\u001b[0m\u001b[0mgetvalue\u001b[0m\u001b[1;33m(\u001b[0m\u001b[1;33m)\u001b[0m\u001b[1;33m\u001b[0m\u001b[1;33m\u001b[0m\u001b[0m\n",
      "\u001b[1;32mc:\\Users\\Max\\AppData\\Local\\Programs\\Python\\Python310\\lib\\site-packages\\IPython\\lib\\pretty.py\u001b[0m in \u001b[0;36mpretty\u001b[1;34m(self, obj)\u001b[0m\n\u001b[0;32m    392\u001b[0m                         \u001b[1;32mif\u001b[0m \u001b[0mcls\u001b[0m \u001b[1;32mis\u001b[0m \u001b[1;32mnot\u001b[0m \u001b[0mobject\u001b[0m\u001b[0;31m \u001b[0m\u001b[0;31m\\\u001b[0m\u001b[1;33m\u001b[0m\u001b[1;33m\u001b[0m\u001b[0m\n\u001b[0;32m    393\u001b[0m                                 \u001b[1;32mand\u001b[0m \u001b[0mcallable\u001b[0m\u001b[1;33m(\u001b[0m\u001b[0mcls\u001b[0m\u001b[1;33m.\u001b[0m\u001b[0m__dict__\u001b[0m\u001b[1;33m.\u001b[0m\u001b[0mget\u001b[0m\u001b[1;33m(\u001b[0m\u001b[1;34m'__repr__'\u001b[0m\u001b[1;33m)\u001b[0m\u001b[1;33m)\u001b[0m\u001b[1;33m:\u001b[0m\u001b[1;33m\u001b[0m\u001b[1;33m\u001b[0m\u001b[0m\n\u001b[1;32m--> 394\u001b[1;33m                             \u001b[1;32mreturn\u001b[0m \u001b[0m_repr_pprint\u001b[0m\u001b[1;33m(\u001b[0m\u001b[0mobj\u001b[0m\u001b[1;33m,\u001b[0m \u001b[0mself\u001b[0m\u001b[1;33m,\u001b[0m \u001b[0mcycle\u001b[0m\u001b[1;33m)\u001b[0m\u001b[1;33m\u001b[0m\u001b[1;33m\u001b[0m\u001b[0m\n\u001b[0m\u001b[0;32m    395\u001b[0m \u001b[1;33m\u001b[0m\u001b[0m\n\u001b[0;32m    396\u001b[0m             \u001b[1;32mreturn\u001b[0m \u001b[0m_default_pprint\u001b[0m\u001b[1;33m(\u001b[0m\u001b[0mobj\u001b[0m\u001b[1;33m,\u001b[0m \u001b[0mself\u001b[0m\u001b[1;33m,\u001b[0m \u001b[0mcycle\u001b[0m\u001b[1;33m)\u001b[0m\u001b[1;33m\u001b[0m\u001b[1;33m\u001b[0m\u001b[0m\n",
      "\u001b[1;32mc:\\Users\\Max\\AppData\\Local\\Programs\\Python\\Python310\\lib\\site-packages\\IPython\\lib\\pretty.py\u001b[0m in \u001b[0;36m_repr_pprint\u001b[1;34m(obj, p, cycle)\u001b[0m\n\u001b[0;32m    698\u001b[0m     \u001b[1;34m\"\"\"A pprint that just redirects to the normal repr function.\"\"\"\u001b[0m\u001b[1;33m\u001b[0m\u001b[1;33m\u001b[0m\u001b[0m\n\u001b[0;32m    699\u001b[0m     \u001b[1;31m# Find newlines and replace them with p.break_()\u001b[0m\u001b[1;33m\u001b[0m\u001b[1;33m\u001b[0m\u001b[0m\n\u001b[1;32m--> 700\u001b[1;33m     \u001b[0moutput\u001b[0m \u001b[1;33m=\u001b[0m \u001b[0mrepr\u001b[0m\u001b[1;33m(\u001b[0m\u001b[0mobj\u001b[0m\u001b[1;33m)\u001b[0m\u001b[1;33m\u001b[0m\u001b[1;33m\u001b[0m\u001b[0m\n\u001b[0m\u001b[0;32m    701\u001b[0m     \u001b[0mlines\u001b[0m \u001b[1;33m=\u001b[0m \u001b[0moutput\u001b[0m\u001b[1;33m.\u001b[0m\u001b[0msplitlines\u001b[0m\u001b[1;33m(\u001b[0m\u001b[1;33m)\u001b[0m\u001b[1;33m\u001b[0m\u001b[1;33m\u001b[0m\u001b[0m\n\u001b[0;32m    702\u001b[0m     \u001b[1;32mwith\u001b[0m \u001b[0mp\u001b[0m\u001b[1;33m.\u001b[0m\u001b[0mgroup\u001b[0m\u001b[1;33m(\u001b[0m\u001b[1;33m)\u001b[0m\u001b[1;33m:\u001b[0m\u001b[1;33m\u001b[0m\u001b[1;33m\u001b[0m\u001b[0m\n",
      "\u001b[1;32mc:\\Users\\Max\\Documents\\Projekte\\GitHub\\Qfrom\\QfromPackage\\Qfrom_tab_mod.py\u001b[0m in \u001b[0;36m__repr__\u001b[1;34m(self)\u001b[0m\n\u001b[0;32m   1065\u001b[0m     \u001b[1;32mdef\u001b[0m \u001b[0m__repr__\u001b[0m\u001b[1;33m(\u001b[0m\u001b[0mself\u001b[0m\u001b[1;33m)\u001b[0m \u001b[1;33m->\u001b[0m \u001b[0mstr\u001b[0m\u001b[1;33m:\u001b[0m\u001b[1;33m\u001b[0m\u001b[1;33m\u001b[0m\u001b[0m\n\u001b[0;32m   1066\u001b[0m         \u001b[1;31m#return 'Qfrom(' + str(self.table_dict) + ')'\u001b[0m\u001b[1;33m\u001b[0m\u001b[1;33m\u001b[0m\u001b[0m\n\u001b[1;32m-> 1067\u001b[1;33m         \u001b[1;32mreturn\u001b[0m \u001b[0mstr\u001b[0m\u001b[1;33m(\u001b[0m\u001b[0mself\u001b[0m\u001b[1;33m)\u001b[0m\u001b[1;33m\u001b[0m\u001b[1;33m\u001b[0m\u001b[0m\n\u001b[0m\u001b[0;32m   1068\u001b[0m \u001b[1;33m\u001b[0m\u001b[0m\n\u001b[0;32m   1069\u001b[0m     \u001b[1;32mdef\u001b[0m \u001b[0m__eq__\u001b[0m\u001b[1;33m(\u001b[0m\u001b[0mself\u001b[0m\u001b[1;33m,\u001b[0m \u001b[0mother\u001b[0m\u001b[1;33m)\u001b[0m \u001b[1;33m->\u001b[0m \u001b[0mbool\u001b[0m\u001b[1;33m:\u001b[0m\u001b[1;33m\u001b[0m\u001b[1;33m\u001b[0m\u001b[0m\n",
      "\u001b[1;32mc:\\Users\\Max\\Documents\\Projekte\\GitHub\\Qfrom\\QfromPackage\\Qfrom_tab_mod.py\u001b[0m in \u001b[0;36m__str__\u001b[1;34m(self)\u001b[0m\n\u001b[0;32m   1049\u001b[0m \u001b[1;33m\u001b[0m\u001b[0m\n\u001b[0;32m   1050\u001b[0m     \u001b[1;32mdef\u001b[0m \u001b[0m__str__\u001b[0m\u001b[1;33m(\u001b[0m\u001b[0mself\u001b[0m\u001b[1;33m)\u001b[0m \u001b[1;33m->\u001b[0m \u001b[0mstr\u001b[0m\u001b[1;33m:\u001b[0m\u001b[1;33m\u001b[0m\u001b[1;33m\u001b[0m\u001b[0m\n\u001b[1;32m-> 1051\u001b[1;33m         \u001b[0mself\u001b[0m\u001b[1;33m.\u001b[0m\u001b[0mcalculate\u001b[0m\u001b[1;33m(\u001b[0m\u001b[1;33m)\u001b[0m\u001b[1;33m\u001b[0m\u001b[1;33m\u001b[0m\u001b[0m\n\u001b[0m\u001b[0;32m   1052\u001b[0m \u001b[1;33m\u001b[0m\u001b[0m\n\u001b[0;32m   1053\u001b[0m         \u001b[1;32mif\u001b[0m \u001b[0mself\u001b[0m\u001b[1;33m.\u001b[0m\u001b[0many\u001b[0m\u001b[1;33m(\u001b[0m\u001b[1;33m)\u001b[0m \u001b[1;32mand\u001b[0m \u001b[0mlen\u001b[0m\u001b[1;33m(\u001b[0m\u001b[0mself\u001b[0m\u001b[1;33m.\u001b[0m\u001b[0mcolumns\u001b[0m\u001b[1;33m(\u001b[0m\u001b[1;33m)\u001b[0m\u001b[1;33m)\u001b[0m \u001b[1;33m==\u001b[0m \u001b[1;36m1\u001b[0m\u001b[1;33m:\u001b[0m\u001b[1;33m\u001b[0m\u001b[1;33m\u001b[0m\u001b[0m\n",
      "\u001b[1;32mc:\\Users\\Max\\Documents\\Projekte\\GitHub\\Qfrom\\QfromPackage\\Qfrom_tab_mod.py\u001b[0m in \u001b[0;36mcalculate\u001b[1;34m(self)\u001b[0m\n\u001b[0;32m   1552\u001b[0m         \u001b[1;32mif\u001b[0m \u001b[0many\u001b[0m\u001b[1;33m(\u001b[0m\u001b[0mself\u001b[0m\u001b[1;33m.\u001b[0m\u001b[0m__operation_list\u001b[0m\u001b[1;33m)\u001b[0m\u001b[1;33m:\u001b[0m\u001b[1;33m\u001b[0m\u001b[1;33m\u001b[0m\u001b[0m\n\u001b[0;32m   1553\u001b[0m             \u001b[1;31m#print(f'calculate() -> {self.__operation_list=}')\u001b[0m\u001b[1;33m\u001b[0m\u001b[1;33m\u001b[0m\u001b[0m\n\u001b[1;32m-> 1554\u001b[1;33m             \u001b[0mself\u001b[0m\u001b[1;33m.\u001b[0m\u001b[0mtable_dict\u001b[0m \u001b[1;33m=\u001b[0m \u001b[0mcalc_operations\u001b[0m\u001b[1;33m(\u001b[0m\u001b[0mdict\u001b[0m\u001b[1;33m(\u001b[0m\u001b[0mself\u001b[0m\u001b[1;33m.\u001b[0m\u001b[0mtable_dict\u001b[0m\u001b[1;33m)\u001b[0m\u001b[1;33m,\u001b[0m \u001b[0mself\u001b[0m\u001b[1;33m.\u001b[0m\u001b[0m__operation_list\u001b[0m\u001b[1;33m)\u001b[0m\u001b[1;33m\u001b[0m\u001b[1;33m\u001b[0m\u001b[0m\n\u001b[0m\u001b[0;32m   1555\u001b[0m             \u001b[0mself\u001b[0m\u001b[1;33m.\u001b[0m\u001b[0m__operation_list\u001b[0m \u001b[1;33m=\u001b[0m \u001b[1;33m[\u001b[0m\u001b[1;33m]\u001b[0m\u001b[1;33m\u001b[0m\u001b[1;33m\u001b[0m\u001b[0m\n\u001b[0;32m   1556\u001b[0m         \u001b[1;32mreturn\u001b[0m \u001b[0mself\u001b[0m\u001b[1;33m.\u001b[0m\u001b[0mtable_dict\u001b[0m\u001b[1;33m\u001b[0m\u001b[1;33m\u001b[0m\u001b[0m\n",
      "\u001b[1;32mc:\\Users\\Max\\Documents\\Projekte\\GitHub\\Qfrom\\QfromPackage\\Qfrom_tab_mod.py\u001b[0m in \u001b[0;36mcalc_operations\u001b[1;34m(table_dict, operation_list)\u001b[0m\n\u001b[0;32m    787\u001b[0m                 \u001b[1;32melse\u001b[0m\u001b[1;33m:\u001b[0m\u001b[1;33m\u001b[0m\u001b[1;33m\u001b[0m\u001b[0m\n\u001b[0;32m    788\u001b[0m                     \u001b[1;32mif\u001b[0m \u001b[0mselect_join_func\u001b[0m\u001b[1;33m:\u001b[0m\u001b[1;33m\u001b[0m\u001b[1;33m\u001b[0m\u001b[0m\n\u001b[1;32m--> 789\u001b[1;33m                         \u001b[0mresult_dict\u001b[0m \u001b[1;33m=\u001b[0m \u001b[1;33m{\u001b[0m\u001b[1;33m**\u001b[0m\u001b[0mresult_dict\u001b[0m\u001b[1;33m,\u001b[0m \u001b[1;33m**\u001b[0m\u001b[0mmap_table_dict\u001b[0m\u001b[1;33m(\u001b[0m\u001b[0mresult_dict\u001b[0m\u001b[1;33m,\u001b[0m \u001b[0mselected_col_names\u001b[0m\u001b[1;33m,\u001b[0m \u001b[0mselect_join_func\u001b[0m\u001b[1;33m,\u001b[0m \u001b[0mpass_none\u001b[0m\u001b[1;33m,\u001b[0m \u001b[0mselect_join_func_col_names\u001b[0m\u001b[1;33m)\u001b[0m\u001b[1;33m}\u001b[0m\u001b[1;33m\u001b[0m\u001b[1;33m\u001b[0m\u001b[0m\n\u001b[0m\u001b[0;32m    790\u001b[0m                     \u001b[0mresult_dict\u001b[0m \u001b[1;33m=\u001b[0m \u001b[0mselect_func\u001b[0m\u001b[1;33m(\u001b[0m\u001b[0mresult_dict\u001b[0m\u001b[1;33m)\u001b[0m\u001b[1;33m\u001b[0m\u001b[1;33m\u001b[0m\u001b[0m\n\u001b[0;32m    791\u001b[0m                 \u001b[1;32mcontinue\u001b[0m\u001b[1;33m\u001b[0m\u001b[1;33m\u001b[0m\u001b[0m\n",
      "\u001b[1;32mc:\\Users\\Max\\Documents\\Projekte\\GitHub\\Qfrom\\QfromPackage\\Qfrom_tab_mod.py\u001b[0m in \u001b[0;36mmap_table_dict\u001b[1;34m(table_dict, selected_col_names, func, do_pass_none, out_col_names)\u001b[0m\n\u001b[0;32m    531\u001b[0m     \u001b[0margs\u001b[0m \u001b[1;33m=\u001b[0m \u001b[0mtuple\u001b[0m\u001b[1;33m(\u001b[0m\u001b[0mtable_dict\u001b[0m\u001b[1;33m[\u001b[0m\u001b[0mcol\u001b[0m\u001b[1;33m]\u001b[0m \u001b[1;32mfor\u001b[0m \u001b[0mcol\u001b[0m \u001b[1;32min\u001b[0m \u001b[0mselected_col_names\u001b[0m\u001b[1;33m)\u001b[0m \u001b[1;32mif\u001b[0m \u001b[0mselected_col_names\u001b[0m \u001b[1;32melse\u001b[0m \u001b[0mget_func_args\u001b[0m\u001b[1;33m(\u001b[0m\u001b[0mtable_dict\u001b[0m\u001b[1;33m,\u001b[0m \u001b[0mfunc\u001b[0m\u001b[1;33m)\u001b[0m\u001b[1;33m\u001b[0m\u001b[1;33m\u001b[0m\u001b[0m\n\u001b[0;32m    532\u001b[0m     \u001b[1;31m#print(f'{args=}')\u001b[0m\u001b[1;33m\u001b[0m\u001b[1;33m\u001b[0m\u001b[0m\n\u001b[1;32m--> 533\u001b[1;33m     \u001b[0moutput_col_count\u001b[0m \u001b[1;33m=\u001b[0m \u001b[0mget_func_output_col_count\u001b[0m\u001b[1;33m(\u001b[0m\u001b[0mtable_dict\u001b[0m\u001b[1;33m,\u001b[0m \u001b[0mfunc\u001b[0m\u001b[1;33m,\u001b[0m \u001b[0mdo_pass_none\u001b[0m\u001b[1;33m)\u001b[0m\u001b[1;33m\u001b[0m\u001b[1;33m\u001b[0m\u001b[0m\n\u001b[0m\u001b[0;32m    534\u001b[0m \u001b[1;33m\u001b[0m\u001b[0m\n\u001b[0;32m    535\u001b[0m     \u001b[0mresult_array\u001b[0m \u001b[1;33m=\u001b[0m \u001b[1;32mNone\u001b[0m\u001b[1;33m\u001b[0m\u001b[1;33m\u001b[0m\u001b[0m\n",
      "\u001b[1;32mc:\\Users\\Max\\Documents\\Projekte\\GitHub\\Qfrom\\QfromPackage\\Qfrom_tab_mod.py\u001b[0m in \u001b[0;36mget_func_output_col_count\u001b[1;34m(table_dict, func, do_pass_none)\u001b[0m\n\u001b[0;32m    479\u001b[0m     \u001b[0mvar_names\u001b[0m \u001b[1;33m=\u001b[0m \u001b[0mfunc\u001b[0m\u001b[1;33m.\u001b[0m\u001b[0m__code__\u001b[0m\u001b[1;33m.\u001b[0m\u001b[0mco_varnames\u001b[0m\u001b[1;33m\u001b[0m\u001b[1;33m\u001b[0m\u001b[0m\n\u001b[0;32m    480\u001b[0m     \u001b[0margs\u001b[0m \u001b[1;33m=\u001b[0m \u001b[0mtuple\u001b[0m\u001b[1;33m(\u001b[0m\u001b[0mtable_dict\u001b[0m\u001b[1;33m[\u001b[0m\u001b[0mvar\u001b[0m\u001b[1;33m]\u001b[0m\u001b[1;33m[\u001b[0m\u001b[1;36m0\u001b[0m\u001b[1;33m]\u001b[0m \u001b[1;32mif\u001b[0m \u001b[0mvar\u001b[0m \u001b[1;32min\u001b[0m \u001b[0mtable_dict\u001b[0m \u001b[1;32melse\u001b[0m \u001b[1;36m0\u001b[0m \u001b[1;32mfor\u001b[0m \u001b[0mvar\u001b[0m \u001b[1;32min\u001b[0m \u001b[0mvar_names\u001b[0m\u001b[1;33m)\u001b[0m\u001b[1;33m\u001b[0m\u001b[1;33m\u001b[0m\u001b[0m\n\u001b[1;32m--> 481\u001b[1;33m     \u001b[0moutput_first_row\u001b[0m \u001b[1;33m=\u001b[0m \u001b[0mpass_none\u001b[0m\u001b[1;33m(\u001b[0m\u001b[0mfunc\u001b[0m\u001b[1;33m)\u001b[0m\u001b[1;33m(\u001b[0m\u001b[1;33m*\u001b[0m\u001b[0margs\u001b[0m\u001b[1;33m)\u001b[0m \u001b[1;32mif\u001b[0m \u001b[0mdo_pass_none\u001b[0m \u001b[1;32melse\u001b[0m \u001b[0mfunc\u001b[0m\u001b[1;33m(\u001b[0m\u001b[1;33m*\u001b[0m\u001b[0margs\u001b[0m\u001b[1;33m)\u001b[0m\u001b[1;33m\u001b[0m\u001b[1;33m\u001b[0m\u001b[0m\n\u001b[0m\u001b[0;32m    482\u001b[0m     \u001b[0moutput_col_count\u001b[0m \u001b[1;33m=\u001b[0m \u001b[1;36m1\u001b[0m\u001b[1;33m\u001b[0m\u001b[1;33m\u001b[0m\u001b[0m\n\u001b[0;32m    483\u001b[0m     \u001b[1;32mif\u001b[0m \u001b[0mtype\u001b[0m\u001b[1;33m(\u001b[0m\u001b[0moutput_first_row\u001b[0m\u001b[1;33m)\u001b[0m \u001b[1;32mis\u001b[0m \u001b[0mtuple\u001b[0m\u001b[1;33m:\u001b[0m\u001b[1;33m\u001b[0m\u001b[1;33m\u001b[0m\u001b[0m\n",
      "\u001b[1;32mc:\\Users\\Max\\Documents\\Projekte\\GitHub\\Qfrom\\QfromPackage\\Qfrom_tab_mod.py\u001b[0m in \u001b[0;36m<lambda>\u001b[1;34m(f, a)\u001b[0m\n",
      "\u001b[1;31mTypeError\u001b[0m: 'int' object is not callable"
     ]
    }
   ],
   "source": [
    "f = lambda x: x+1\n",
    "Qfrom({'a':[1, 2, 3]}).select('f(a)')"
   ]
  },
  {
   "cell_type": "code",
   "execution_count": null,
   "metadata": {},
   "outputs": [
    {
     "name": "stdout",
     "output_type": "stream",
     "text": [
      "[('get_ipython', <bound method InteractiveShell.get_ipython of <ipykernel.zmqshell.ZMQInteractiveShell object at 0x000001F76D2FF190>>), ('exit', <IPython.core.autocall.ZMQExitAutocall object at 0x000001F76D2FD8A0>), ('quit', <IPython.core.autocall.ZMQExitAutocall object at 0x000001F76D2FD8A0>), ('Qfrom', <class 'QfromPackage.Qfrom_tab_mod.Qfrom'>), ('groupby', <class 'itertools.groupby'>), ('add', <function add at 0x000001F77F86C550>), ('increase', <function increase at 0x000001F77F86C5E0>), ('f', <function f at 0x000001F77F86C790>)]\n"
     ]
    }
   ],
   "source": [
    "#for x in list(globals().values()):\n",
    "#for x in list(globals().items()):\n",
    "#    print(x)\n",
    "#    print('')\n",
    "print([(key, f) for key, f in globals().items() if callable(f)])"
   ]
  },
  {
   "cell_type": "code",
   "execution_count": 8,
   "metadata": {},
   "outputs": [
    {
     "name": "stdout",
     "output_type": "stream",
     "text": [
      "global funcs =  ['Iterable', 'Any', 'LifoQueue', 'StringIO', 'split_func_str_by_var', 'split_func_str_coma', 'split_col_in_source_target', 'get_used_vars_from_func_str', 'predicatestr_to_funcstr', 'selectarg_to_funcstr', 'trans_select_func', 'trans_select_func_args', 'trans_predicate_func', 'trans_predicate_func_args', 'trans_groupby_func_args', 'trans_flatten_func_args', 'trans_agg_func_args', 'try_parse_str', 'parse_iterable_to_array', 'parse_iterables_to_arrays', 'try_parse_str_to_collection', 'parse_str_to_collection', 'pass_none', 'first', 'will_be_tranformed_to_array', 'list_to_array', 'iter_table_dict', 'arr_set_value', 'get_func_output_col_count', 'get_func_args', 'get_key_array', 'group_by_dict', 'append_table_dict', 'order_by_table_dict', 'map_table_dict', 'where_table_dict', 'join_table_dict', 'join_cross_table_dict', 'join_id_table_dict', 'concat_table_dict', 'group_by_table_dict', 'flatten_table_dict', 'flattenjoin_table_dict', 'calc_operations', 'Operation', 'Qfrom']\n"
     ]
    },
    {
     "data": {
      "text/plain": [
       "Qfrom\n",
       "x\n",
       "(1, 4)\n",
       "(2, 5)\n",
       "(3, 6)"
      ]
     },
     "execution_count": 8,
     "metadata": {},
     "output_type": "execute_result"
    }
   ],
   "source": [
    "f = lambda x:x+1\n",
    "Qfrom({'a': [1, 2, 3], 'b': [4, 5, 6]}).select('(a, b) as x')#.select('sum(x)')"
   ]
  },
  {
   "cell_type": "code",
   "execution_count": null,
   "metadata": {},
   "outputs": [],
   "source": []
  }
 ],
 "metadata": {
  "interpreter": {
   "hash": "28b06ec166af8c83e5882731fef908354c2d57d9b46df793dcdb4efcedb4ca54"
  },
  "kernelspec": {
   "display_name": "Python 3.10.0 64-bit",
   "language": "python",
   "name": "python3"
  },
  "language_info": {
   "codemirror_mode": {
    "name": "ipython",
    "version": 3
   },
   "file_extension": ".py",
   "mimetype": "text/x-python",
   "name": "python",
   "nbconvert_exporter": "python",
   "pygments_lexer": "ipython3",
   "version": "3.10.0"
  },
  "orig_nbformat": 4
 },
 "nbformat": 4,
 "nbformat_minor": 2
}
