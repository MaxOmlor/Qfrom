{
 "cells": [
  {
   "cell_type": "markdown",
   "metadata": {},
   "source": [
    "# **Qfrom Documentation**"
   ]
  },
  {
   "cell_type": "markdown",
   "metadata": {},
   "source": [
    "# **Contents**\n",
    "\n",
    "**Import**\n",
    "\n",
    "**Methods**\n",
    "- import_list\n",
    "- import_dict\n",
    "- import_set\n",
    "- import_array\n",
    "- import_mtx\n",
    "- import_dataframe\n",
    "- import_csv\n",
    "- (import_json)\n",
    "- import_generator\n",
    "\n",
    "- eq\n",
    "- str\n",
    "- repr\n",
    "\n",
    "- append\n",
    "- setitem\n",
    "- getitem\n",
    "- contains\n",
    "- iter\n",
    "\n",
    "- rename\n",
    "- orderby\n",
    "- orderby_pn\n",
    "- (shuffle)\n",
    "- first\n",
    "- columns\n",
    "- (stats)\n",
    "- copy\n",
    "- (deep_copy)\n",
    "\n",
    "- where\n",
    "- split\n",
    "- select\n",
    "- select_pn -> pass None values\n",
    "- select_join -> map-op which gets joined directly\n",
    "- select_join_pn\n",
    "- col_where\n",
    "- col_select\n",
    "- col_select_join\n",
    "- (normalize)\n",
    "\n",
    "- join\n",
    "- join_cross\n",
    "- join_outer\n",
    "- join_outer_left\n",
    "- join_outer_right\n",
    "- join_id\n",
    "- join_id_outer\n",
    "- join_id_outer_left\n",
    "- join_id_outer_right\n",
    "\n",
    "- (union)\n",
    "- (intersect)\n",
    "- (difference)\n",
    "- (symmetric_difference)\n",
    "- (partition)\n",
    "- concat\n",
    "- concat_outer\n",
    "- concat_outer_left\n",
    "- concat_outer_right\n",
    "\n",
    "- groupby\n",
    "- groupby_pn\n",
    "- flatten\n",
    "- flatten_pn\n",
    "- flatten_join\n",
    "- flatten_join_pn\n",
    "- unique\n",
    "\n",
    "- col_agg\n",
    "- pair_agg\n",
    "- any\n",
    "- all\n",
    "- min\n",
    "- min_id\n",
    "- min_item\n",
    "- max\n",
    "- max_id\n",
    "- max_item\n",
    "- sum\n",
    "- mean\n",
    "- median\n",
    "- var\n",
    "- len\n",
    "- size\n",
    "\n",
    "- calc\n",
    "- call\n",
    "\n",
    "- plot\n",
    "- plot_bar\n",
    "- plot_hist\n",
    "- plot_box\n",
    "- plot_scatter\n",
    "\n",
    "- tolist\n",
    "- (toset)\n",
    "- todict\n",
    "- toarray\n",
    "- (tomtx)\n",
    "- todf\n",
    "- tocsv\n",
    "- (tocsvfile)\n",
    "- (tojson)\n",
    "- (tojsonfile)\n",
    "- __array__"
   ]
  },
  {
   "cell_type": "markdown",
   "metadata": {},
   "source": [
    "# **Import**"
   ]
  },
  {
   "cell_type": "code",
   "execution_count": 1,
   "metadata": {},
   "outputs": [],
   "source": [
    "from QfromPackage.Qfrom_tab_mod import Qfrom"
   ]
  },
  {
   "cell_type": "markdown",
   "metadata": {},
   "source": [
    "# **Methods**"
   ]
  },
  {
   "cell_type": "code",
   "execution_count": 4,
   "metadata": {},
   "outputs": [],
   "source": [
    "import numpy as np\n",
    "import pandas as pd"
   ]
  },
  {
   "cell_type": "markdown",
   "metadata": {},
   "source": [
    "**import_list**"
   ]
  },
  {
   "cell_type": "code",
   "execution_count": 5,
   "metadata": {},
   "outputs": [
    {
     "data": {
      "text/plain": [
       "Qfrom\n",
       "0\n",
       "1\n",
       "2\n",
       "3"
      ]
     },
     "execution_count": 5,
     "metadata": {},
     "output_type": "execute_result"
    }
   ],
   "source": [
    "l = [1, 2, 3]\n",
    "Qfrom(l)"
   ]
  },
  {
   "cell_type": "code",
   "execution_count": 6,
   "metadata": {},
   "outputs": [
    {
     "data": {
      "text/plain": [
       "Qfrom\n",
       "0\t1\n",
       "1\t4\n",
       "2\t5\n",
       "3\t6"
      ]
     },
     "execution_count": 6,
     "metadata": {},
     "output_type": "execute_result"
    }
   ],
   "source": [
    "l = [(1, 4), (2, 5), (3, 6)]\n",
    "Qfrom(l)"
   ]
  },
  {
   "cell_type": "code",
   "execution_count": 7,
   "metadata": {},
   "outputs": [
    {
     "data": {
      "text/plain": [
       "Qfrom\n",
       "a\tb\n",
       "1\t4\n",
       "2\t5\n",
       "3\t6"
      ]
     },
     "execution_count": 7,
     "metadata": {},
     "output_type": "execute_result"
    }
   ],
   "source": [
    "l = [{'a': 1, 'b': 4}, {'a': 2, 'b': 5}, {'a': 3, 'b': 6}]\n",
    "Qfrom(l)"
   ]
  },
  {
   "cell_type": "markdown",
   "metadata": {},
   "source": [
    "**import_dict**"
   ]
  },
  {
   "cell_type": "code",
   "execution_count": 8,
   "metadata": {},
   "outputs": [
    {
     "data": {
      "text/plain": [
       "Qfrom\n",
       "a\tb\n",
       "1\t4\n",
       "2\t5\n",
       "3\t6"
      ]
     },
     "execution_count": 8,
     "metadata": {},
     "output_type": "execute_result"
    }
   ],
   "source": [
    "d = {'a': [1, 2, 3], 'b': [4, 5, 6]}\n",
    "Qfrom(d)"
   ]
  },
  {
   "cell_type": "markdown",
   "metadata": {},
   "source": [
    "**import_set**"
   ]
  },
  {
   "cell_type": "code",
   "execution_count": 9,
   "metadata": {},
   "outputs": [
    {
     "data": {
      "text/plain": [
       "Qfrom\n",
       "0\n",
       "1\n",
       "2\n",
       "3"
      ]
     },
     "execution_count": 9,
     "metadata": {},
     "output_type": "execute_result"
    }
   ],
   "source": [
    "s = {1, 2, 3}\n",
    "Qfrom(s)"
   ]
  },
  {
   "cell_type": "markdown",
   "metadata": {},
   "source": [
    "**import_array**"
   ]
  },
  {
   "cell_type": "code",
   "execution_count": 10,
   "metadata": {},
   "outputs": [
    {
     "data": {
      "text/plain": [
       "Qfrom\n",
       "0\n",
       "1\n",
       "2\n",
       "3"
      ]
     },
     "execution_count": 10,
     "metadata": {},
     "output_type": "execute_result"
    }
   ],
   "source": [
    "a = np.array([1, 2, 3])\n",
    "Qfrom(a)"
   ]
  },
  {
   "cell_type": "markdown",
   "metadata": {},
   "source": [
    "**import_mtx**"
   ]
  },
  {
   "cell_type": "code",
   "execution_count": 11,
   "metadata": {},
   "outputs": [
    {
     "data": {
      "text/plain": [
       "Qfrom\n",
       "0\t1\n",
       "1\t4\n",
       "2\t5\n",
       "3\t6"
      ]
     },
     "execution_count": 11,
     "metadata": {},
     "output_type": "execute_result"
    }
   ],
   "source": [
    "mtx = np.array([[1, 4], [2, 5], [3, 6]])\n",
    "Qfrom(mtx)"
   ]
  },
  {
   "cell_type": "markdown",
   "metadata": {},
   "source": [
    "**import_dataframe**"
   ]
  },
  {
   "cell_type": "code",
   "execution_count": 12,
   "metadata": {},
   "outputs": [],
   "source": [
    "#df = pd.DataFrame({'a': [1, 2, 3], 'b': [4, 5, 6]})\n",
    "#Qfrom(df)"
   ]
  },
  {
   "cell_type": "markdown",
   "metadata": {},
   "source": [
    "**import_csv**"
   ]
  },
  {
   "cell_type": "code",
   "execution_count": 13,
   "metadata": {},
   "outputs": [
    {
     "data": {
      "text/plain": [
       "Qfrom\n",
       "a\tb\n",
       "1\t4\n",
       "2\t5\n",
       "3\t6"
      ]
     },
     "execution_count": 13,
     "metadata": {},
     "output_type": "execute_result"
    }
   ],
   "source": [
    "csv = '''\n",
    "a,b\n",
    "1,4\n",
    "2,5\n",
    "3,6\n",
    "'''\n",
    "\n",
    "Qfrom(csv)"
   ]
  },
  {
   "cell_type": "markdown",
   "metadata": {},
   "source": [
    "**(import_json)**"
   ]
  },
  {
   "cell_type": "markdown",
   "metadata": {},
   "source": [
    "**import_generator**"
   ]
  },
  {
   "cell_type": "code",
   "execution_count": 14,
   "metadata": {},
   "outputs": [
    {
     "data": {
      "text/plain": [
       "Qfrom\n",
       "0\n",
       "0\n",
       "1\n",
       "2\n",
       "3\n",
       "4"
      ]
     },
     "execution_count": 14,
     "metadata": {},
     "output_type": "execute_result"
    }
   ],
   "source": [
    "Qfrom(range(5))"
   ]
  },
  {
   "cell_type": "markdown",
   "metadata": {},
   "source": [
    "**eq**"
   ]
  },
  {
   "cell_type": "code",
   "execution_count": 15,
   "metadata": {},
   "outputs": [
    {
     "name": "stdout",
     "output_type": "stream",
     "text": [
      "q1 = Qfrom\n",
      "a\tb\n",
      "1\t4\n",
      "2\t5\n",
      "3\t6\n",
      "q2 = Qfrom\n",
      "a\tb\n",
      "1\t4\n",
      "2\t5\n",
      "3\t6\n",
      "\n",
      "q1 == q2 -> True\n"
     ]
    }
   ],
   "source": [
    "q1 = Qfrom({\n",
    "    'a': [1, 2, 3],\n",
    "    'b': [4, 5, 6]\n",
    "})\n",
    "q2 = Qfrom([\n",
    "    {'a': 1, 'b': 4},\n",
    "    {'a': 2, 'b': 5},\n",
    "    {'a': 3, 'b': 6}\n",
    "])\n",
    "\n",
    "print(f'{q1 = }')\n",
    "print(f'{q2 = }')\n",
    "print('')\n",
    "print(f'q1 == q2 -> {q1==q2}')"
   ]
  },
  {
   "cell_type": "markdown",
   "metadata": {},
   "source": [
    "**str**"
   ]
  },
  {
   "cell_type": "code",
   "execution_count": 16,
   "metadata": {},
   "outputs": [
    {
     "data": {
      "text/plain": [
       "'Qfrom\\na\\tb\\n1\\t4\\n2\\t5\\n3\\t6'"
      ]
     },
     "execution_count": 16,
     "metadata": {},
     "output_type": "execute_result"
    }
   ],
   "source": [
    "q = Qfrom({'a': [1, 2, 3], 'b': [4, 5, 6]})\n",
    "str(q)"
   ]
  },
  {
   "cell_type": "markdown",
   "metadata": {},
   "source": [
    "**repr**"
   ]
  },
  {
   "cell_type": "code",
   "execution_count": 17,
   "metadata": {},
   "outputs": [
    {
     "name": "stdout",
     "output_type": "stream",
     "text": [
      "Qfrom\n",
      "a\tb\n",
      "1\t4\n",
      "2\t5\n",
      "3\t6\n"
     ]
    }
   ],
   "source": [
    "q = Qfrom({'a': [1, 2, 3], 'b': [4, 5, 6]})\n",
    "print(q)"
   ]
  },
  {
   "cell_type": "markdown",
   "metadata": {},
   "source": [
    "**append**"
   ]
  },
  {
   "cell_type": "code",
   "execution_count": 18,
   "metadata": {},
   "outputs": [
    {
     "data": {
      "text/plain": [
       "Qfrom\n",
       "a\tb\n",
       "1\t4\n",
       "2\t5\n",
       "3\t6\n",
       "4\t7"
      ]
     },
     "execution_count": 18,
     "metadata": {},
     "output_type": "execute_result"
    }
   ],
   "source": [
    "q = Qfrom({'a': [1, 2, 3], 'b': [4, 5, 6]})\n",
    "\n",
    "q.append((4, 7))\n",
    "q"
   ]
  },
  {
   "cell_type": "code",
   "execution_count": 19,
   "metadata": {},
   "outputs": [
    {
     "data": {
      "text/plain": [
       "Qfrom\n",
       "a\tb\n",
       "1\t4\n",
       "2\t5\n",
       "3\t6\n",
       "4\t7"
      ]
     },
     "execution_count": 19,
     "metadata": {},
     "output_type": "execute_result"
    }
   ],
   "source": [
    "q = Qfrom({'a': [1, 2, 3], 'b': [4, 5, 6]})\n",
    "\n",
    "q.append({'a': 4, 'b':7})\n",
    "q"
   ]
  },
  {
   "cell_type": "markdown",
   "metadata": {},
   "source": [
    "**setitem**"
   ]
  },
  {
   "cell_type": "code",
   "execution_count": null,
   "metadata": {},
   "outputs": [],
   "source": []
  },
  {
   "cell_type": "markdown",
   "metadata": {},
   "source": [
    "**getitem**"
   ]
  },
  {
   "cell_type": "code",
   "execution_count": 22,
   "metadata": {},
   "outputs": [
    {
     "data": {
      "text/plain": [
       "Qfrom\n",
       "a\tb\n",
       "1\t4\n",
       "2\t5\n",
       "3\t6"
      ]
     },
     "execution_count": 22,
     "metadata": {},
     "output_type": "execute_result"
    }
   ],
   "source": [
    "q = Qfrom({'a': [1, 2, 3], 'b': [4, 5, 6]})\n",
    "q"
   ]
  },
  {
   "cell_type": "code",
   "execution_count": 20,
   "metadata": {},
   "outputs": [
    {
     "data": {
      "text/plain": [
       "Qfrom\n",
       "a\n",
       "1\n",
       "2\n",
       "3"
      ]
     },
     "execution_count": 20,
     "metadata": {},
     "output_type": "execute_result"
    }
   ],
   "source": [
    "q['a']"
   ]
  },
  {
   "cell_type": "code",
   "execution_count": 21,
   "metadata": {},
   "outputs": [
    {
     "data": {
      "text/plain": [
       "(1, 4)"
      ]
     },
     "execution_count": 21,
     "metadata": {},
     "output_type": "execute_result"
    }
   ],
   "source": [
    "q[0]"
   ]
  },
  {
   "cell_type": "code",
   "execution_count": 24,
   "metadata": {},
   "outputs": [
    {
     "data": {
      "text/plain": [
       "Qfrom\n",
       "a\tb\n",
       "2\t5\n",
       "3\t6"
      ]
     },
     "execution_count": 24,
     "metadata": {},
     "output_type": "execute_result"
    }
   ],
   "source": [
    "q[1:3]"
   ]
  },
  {
   "cell_type": "markdown",
   "metadata": {},
   "source": [
    "**contains**"
   ]
  },
  {
   "cell_type": "markdown",
   "metadata": {},
   "source": [
    "**iter**"
   ]
  },
  {
   "cell_type": "markdown",
   "metadata": {},
   "source": [
    "**rename**"
   ]
  },
  {
   "cell_type": "markdown",
   "metadata": {},
   "source": [
    "**orderby**"
   ]
  },
  {
   "cell_type": "markdown",
   "metadata": {},
   "source": [
    "**orderby_pn**"
   ]
  },
  {
   "cell_type": "markdown",
   "metadata": {},
   "source": [
    "**(shuffle)**"
   ]
  },
  {
   "cell_type": "markdown",
   "metadata": {},
   "source": [
    "**first**"
   ]
  },
  {
   "cell_type": "markdown",
   "metadata": {},
   "source": [
    "**columns**"
   ]
  },
  {
   "cell_type": "markdown",
   "metadata": {},
   "source": [
    "**(stats)**"
   ]
  },
  {
   "cell_type": "markdown",
   "metadata": {},
   "source": [
    "**copy**"
   ]
  },
  {
   "cell_type": "markdown",
   "metadata": {},
   "source": [
    "**(deep_copy)**"
   ]
  },
  {
   "cell_type": "markdown",
   "metadata": {},
   "source": [
    "**where**"
   ]
  },
  {
   "cell_type": "markdown",
   "metadata": {},
   "source": [
    "**split**"
   ]
  },
  {
   "cell_type": "markdown",
   "metadata": {},
   "source": [
    "**select**"
   ]
  },
  {
   "cell_type": "markdown",
   "metadata": {},
   "source": [
    "**select_pn**"
   ]
  },
  {
   "cell_type": "markdown",
   "metadata": {},
   "source": [
    "**select_join**"
   ]
  },
  {
   "cell_type": "markdown",
   "metadata": {},
   "source": [
    "**select_join_pn**"
   ]
  },
  {
   "cell_type": "markdown",
   "metadata": {},
   "source": [
    "**col_where**"
   ]
  },
  {
   "cell_type": "markdown",
   "metadata": {},
   "source": [
    "**col_select**"
   ]
  },
  {
   "cell_type": "markdown",
   "metadata": {},
   "source": [
    "**col_select_join**"
   ]
  },
  {
   "cell_type": "markdown",
   "metadata": {},
   "source": [
    "**(normalize)**"
   ]
  },
  {
   "cell_type": "markdown",
   "metadata": {},
   "source": [
    "**join**"
   ]
  },
  {
   "cell_type": "markdown",
   "metadata": {},
   "source": [
    "**join_cross**"
   ]
  },
  {
   "cell_type": "markdown",
   "metadata": {},
   "source": [
    "**join_outer**"
   ]
  },
  {
   "cell_type": "markdown",
   "metadata": {},
   "source": [
    "**join_outer_left**"
   ]
  },
  {
   "cell_type": "markdown",
   "metadata": {},
   "source": [
    "**join_outer_right**"
   ]
  },
  {
   "cell_type": "markdown",
   "metadata": {},
   "source": [
    "**join_id**"
   ]
  },
  {
   "cell_type": "markdown",
   "metadata": {},
   "source": [
    "**join_id_outer**"
   ]
  },
  {
   "cell_type": "markdown",
   "metadata": {},
   "source": [
    "**join_id_outer_left**"
   ]
  },
  {
   "cell_type": "markdown",
   "metadata": {},
   "source": [
    "**join_id_outer_right**"
   ]
  },
  {
   "cell_type": "markdown",
   "metadata": {},
   "source": [
    "**(union)**"
   ]
  },
  {
   "cell_type": "markdown",
   "metadata": {},
   "source": [
    "**(intersect)**"
   ]
  },
  {
   "cell_type": "markdown",
   "metadata": {},
   "source": [
    "**(difference)**"
   ]
  },
  {
   "cell_type": "markdown",
   "metadata": {},
   "source": [
    "**(symmetric_difference)**"
   ]
  },
  {
   "cell_type": "markdown",
   "metadata": {},
   "source": [
    "**(partition)**"
   ]
  },
  {
   "cell_type": "markdown",
   "metadata": {},
   "source": [
    "**concat**"
   ]
  },
  {
   "cell_type": "markdown",
   "metadata": {},
   "source": [
    "**concat_outer**"
   ]
  },
  {
   "cell_type": "markdown",
   "metadata": {},
   "source": [
    "**concat_outer_left**"
   ]
  },
  {
   "cell_type": "markdown",
   "metadata": {},
   "source": [
    "**concat_outer_right**"
   ]
  },
  {
   "cell_type": "markdown",
   "metadata": {},
   "source": [
    "**groupby**"
   ]
  },
  {
   "cell_type": "markdown",
   "metadata": {},
   "source": [
    "**groupby_pn**"
   ]
  },
  {
   "cell_type": "markdown",
   "metadata": {},
   "source": [
    "**flatten**"
   ]
  },
  {
   "cell_type": "markdown",
   "metadata": {},
   "source": [
    "**flatten_pn**"
   ]
  },
  {
   "cell_type": "markdown",
   "metadata": {},
   "source": [
    "**flatten_join**"
   ]
  },
  {
   "cell_type": "markdown",
   "metadata": {},
   "source": [
    "**flatten_join_pn**"
   ]
  },
  {
   "cell_type": "markdown",
   "metadata": {},
   "source": [
    "**unique**"
   ]
  },
  {
   "cell_type": "markdown",
   "metadata": {},
   "source": [
    "**col_agg**"
   ]
  },
  {
   "cell_type": "markdown",
   "metadata": {},
   "source": [
    "**pair_agg**"
   ]
  },
  {
   "cell_type": "markdown",
   "metadata": {},
   "source": [
    "**any**"
   ]
  },
  {
   "cell_type": "markdown",
   "metadata": {},
   "source": [
    "**all**"
   ]
  },
  {
   "cell_type": "markdown",
   "metadata": {},
   "source": [
    "**min**"
   ]
  },
  {
   "cell_type": "markdown",
   "metadata": {},
   "source": [
    "**min_id**"
   ]
  },
  {
   "cell_type": "markdown",
   "metadata": {},
   "source": [
    "**min_item**"
   ]
  },
  {
   "cell_type": "markdown",
   "metadata": {},
   "source": [
    "**max**"
   ]
  },
  {
   "cell_type": "markdown",
   "metadata": {},
   "source": [
    "**max_id**"
   ]
  },
  {
   "cell_type": "markdown",
   "metadata": {},
   "source": [
    "**max_item**"
   ]
  },
  {
   "cell_type": "markdown",
   "metadata": {},
   "source": [
    "**sum**"
   ]
  },
  {
   "cell_type": "markdown",
   "metadata": {},
   "source": [
    "**mean**"
   ]
  },
  {
   "cell_type": "markdown",
   "metadata": {},
   "source": [
    "**median**"
   ]
  },
  {
   "cell_type": "markdown",
   "metadata": {},
   "source": [
    "**var**"
   ]
  },
  {
   "cell_type": "markdown",
   "metadata": {},
   "source": [
    "**len**"
   ]
  },
  {
   "cell_type": "markdown",
   "metadata": {},
   "source": [
    "**size**"
   ]
  },
  {
   "cell_type": "markdown",
   "metadata": {},
   "source": [
    "**calc**"
   ]
  },
  {
   "cell_type": "markdown",
   "metadata": {},
   "source": [
    "**call**"
   ]
  },
  {
   "cell_type": "markdown",
   "metadata": {},
   "source": [
    "**plot**"
   ]
  },
  {
   "cell_type": "markdown",
   "metadata": {},
   "source": [
    "**plot_bar**"
   ]
  },
  {
   "cell_type": "markdown",
   "metadata": {},
   "source": [
    "**plot_hist**"
   ]
  },
  {
   "cell_type": "markdown",
   "metadata": {},
   "source": [
    "**plot_box**"
   ]
  },
  {
   "cell_type": "markdown",
   "metadata": {},
   "source": [
    "**plot_scatter**"
   ]
  },
  {
   "cell_type": "markdown",
   "metadata": {},
   "source": [
    "**tolist**"
   ]
  },
  {
   "cell_type": "markdown",
   "metadata": {},
   "source": [
    "**(toset)**"
   ]
  },
  {
   "cell_type": "markdown",
   "metadata": {},
   "source": [
    "**todict**"
   ]
  },
  {
   "cell_type": "markdown",
   "metadata": {},
   "source": [
    "**toarray**"
   ]
  },
  {
   "cell_type": "markdown",
   "metadata": {},
   "source": [
    "**(tomtx)**"
   ]
  },
  {
   "cell_type": "markdown",
   "metadata": {},
   "source": [
    "**todf**"
   ]
  },
  {
   "cell_type": "markdown",
   "metadata": {},
   "source": [
    "**tocsv**"
   ]
  },
  {
   "cell_type": "markdown",
   "metadata": {},
   "source": [
    "**(tocsvfile)**"
   ]
  },
  {
   "cell_type": "markdown",
   "metadata": {},
   "source": [
    "**(tojson)**"
   ]
  },
  {
   "cell_type": "markdown",
   "metadata": {},
   "source": [
    "**(tojsonfile)**"
   ]
  },
  {
   "cell_type": "markdown",
   "metadata": {},
   "source": [
    "**__array__**"
   ]
  }
 ],
 "metadata": {
  "interpreter": {
   "hash": "28b06ec166af8c83e5882731fef908354c2d57d9b46df793dcdb4efcedb4ca54"
  },
  "kernelspec": {
   "display_name": "Python 3.10.0 64-bit",
   "language": "python",
   "name": "python3"
  },
  "language_info": {
   "codemirror_mode": {
    "name": "ipython",
    "version": 3
   },
   "file_extension": ".py",
   "mimetype": "text/x-python",
   "name": "python",
   "nbconvert_exporter": "python",
   "pygments_lexer": "ipython3",
   "version": "3.11.1"
  },
  "orig_nbformat": 4
 },
 "nbformat": 4,
 "nbformat_minor": 2
}
